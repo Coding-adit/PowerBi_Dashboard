{
  "cells": [
    {
      "cell_type": "code",
      "execution_count": 3,
      "id": "0183be55",
      "metadata": {
        "id": "0183be55"
      },
      "outputs": [],
      "source": [
        "import numpy as np\n",
        "import pandas as pd\n",
        "import matplotlib.pyplot as plt\n",
        "import seaborn as sb\n",
        "import warnings\n",
        "warnings.filterwarnings('ignore')\n"
      ]
    },
    {
      "cell_type": "code",
      "source": [],
      "metadata": {
        "id": "iEzMYmmiJHvD"
      },
      "id": "iEzMYmmiJHvD",
      "execution_count": 3,
      "outputs": []
    },
    {
      "cell_type": "code",
      "source": [
        "import os\n",
        "os.getcwd()"
      ],
      "metadata": {
        "colab": {
          "base_uri": "https://localhost:8080/",
          "height": 35
        },
        "id": "uYA4_tKHWPVK",
        "outputId": "d78df6ed-925d-45d1-d5d5-6ecffa56b030"
      },
      "id": "uYA4_tKHWPVK",
      "execution_count": 4,
      "outputs": [
        {
          "output_type": "execute_result",
          "data": {
            "text/plain": [
              "'/content'"
            ],
            "application/vnd.google.colaboratory.intrinsic+json": {
              "type": "string"
            }
          },
          "metadata": {},
          "execution_count": 4
        }
      ]
    },
    {
      "cell_type": "code",
      "execution_count": 5,
      "id": "d9b83adb",
      "metadata": {
        "id": "d9b83adb"
      },
      "outputs": [],
      "source": [
        "df=pd.read_csv(\"salary1.csv\")"
      ]
    },
    {
      "cell_type": "code",
      "execution_count": 6,
      "id": "205d7374",
      "metadata": {
        "id": "205d7374",
        "colab": {
          "base_uri": "https://localhost:8080/",
          "height": 399
        },
        "outputId": "3365f111-e2ec-406c-f537-447d28153541"
      },
      "outputs": [
        {
          "output_type": "execute_result",
          "data": {
            "text/plain": [
              "   Unnamed: 0  age          Workclass  fnlwgt   education  education-num  \\\n",
              "0           0   39          State-gov   77516   Bachelors             13   \n",
              "1           1   50   Self-emp-not-inc   83311   Bachelors             13   \n",
              "2           2   38            Private  215646     HS-grad              9   \n",
              "3           3   53            Private  234721        11th              7   \n",
              "4           4   28            Private  338409   Bachelors             13   \n",
              "\n",
              "        marital-status          occupation    relationship    race      sex  \\\n",
              "0        Never-married        Adm-clerical   Not-in-family   White     Male   \n",
              "1   Married-civ-spouse     Exec-managerial         Husband   White     Male   \n",
              "2             Divorced   Handlers-cleaners   Not-in-family   White     Male   \n",
              "3   Married-civ-spouse   Handlers-cleaners         Husband   Black     Male   \n",
              "4   Married-civ-spouse      Prof-specialty            Wife   Black   Female   \n",
              "\n",
              "   capital-gain  capital-loss  hours-per-week  native-country  Income  \n",
              "0          2174             0              40   United-States       0  \n",
              "1             0             0              13   United-States       0  \n",
              "2             0             0              40   United-States       0  \n",
              "3             0             0              40   United-States       0  \n",
              "4             0             0              40            Cuba       0  "
            ],
            "text/html": [
              "\n",
              "  <div id=\"df-f7c77f7b-f99c-433f-bbf1-7ff322312727\" class=\"colab-df-container\">\n",
              "    <div>\n",
              "<style scoped>\n",
              "    .dataframe tbody tr th:only-of-type {\n",
              "        vertical-align: middle;\n",
              "    }\n",
              "\n",
              "    .dataframe tbody tr th {\n",
              "        vertical-align: top;\n",
              "    }\n",
              "\n",
              "    .dataframe thead th {\n",
              "        text-align: right;\n",
              "    }\n",
              "</style>\n",
              "<table border=\"1\" class=\"dataframe\">\n",
              "  <thead>\n",
              "    <tr style=\"text-align: right;\">\n",
              "      <th></th>\n",
              "      <th>Unnamed: 0</th>\n",
              "      <th>age</th>\n",
              "      <th>Workclass</th>\n",
              "      <th>fnlwgt</th>\n",
              "      <th>education</th>\n",
              "      <th>education-num</th>\n",
              "      <th>marital-status</th>\n",
              "      <th>occupation</th>\n",
              "      <th>relationship</th>\n",
              "      <th>race</th>\n",
              "      <th>sex</th>\n",
              "      <th>capital-gain</th>\n",
              "      <th>capital-loss</th>\n",
              "      <th>hours-per-week</th>\n",
              "      <th>native-country</th>\n",
              "      <th>Income</th>\n",
              "    </tr>\n",
              "  </thead>\n",
              "  <tbody>\n",
              "    <tr>\n",
              "      <th>0</th>\n",
              "      <td>0</td>\n",
              "      <td>39</td>\n",
              "      <td>State-gov</td>\n",
              "      <td>77516</td>\n",
              "      <td>Bachelors</td>\n",
              "      <td>13</td>\n",
              "      <td>Never-married</td>\n",
              "      <td>Adm-clerical</td>\n",
              "      <td>Not-in-family</td>\n",
              "      <td>White</td>\n",
              "      <td>Male</td>\n",
              "      <td>2174</td>\n",
              "      <td>0</td>\n",
              "      <td>40</td>\n",
              "      <td>United-States</td>\n",
              "      <td>0</td>\n",
              "    </tr>\n",
              "    <tr>\n",
              "      <th>1</th>\n",
              "      <td>1</td>\n",
              "      <td>50</td>\n",
              "      <td>Self-emp-not-inc</td>\n",
              "      <td>83311</td>\n",
              "      <td>Bachelors</td>\n",
              "      <td>13</td>\n",
              "      <td>Married-civ-spouse</td>\n",
              "      <td>Exec-managerial</td>\n",
              "      <td>Husband</td>\n",
              "      <td>White</td>\n",
              "      <td>Male</td>\n",
              "      <td>0</td>\n",
              "      <td>0</td>\n",
              "      <td>13</td>\n",
              "      <td>United-States</td>\n",
              "      <td>0</td>\n",
              "    </tr>\n",
              "    <tr>\n",
              "      <th>2</th>\n",
              "      <td>2</td>\n",
              "      <td>38</td>\n",
              "      <td>Private</td>\n",
              "      <td>215646</td>\n",
              "      <td>HS-grad</td>\n",
              "      <td>9</td>\n",
              "      <td>Divorced</td>\n",
              "      <td>Handlers-cleaners</td>\n",
              "      <td>Not-in-family</td>\n",
              "      <td>White</td>\n",
              "      <td>Male</td>\n",
              "      <td>0</td>\n",
              "      <td>0</td>\n",
              "      <td>40</td>\n",
              "      <td>United-States</td>\n",
              "      <td>0</td>\n",
              "    </tr>\n",
              "    <tr>\n",
              "      <th>3</th>\n",
              "      <td>3</td>\n",
              "      <td>53</td>\n",
              "      <td>Private</td>\n",
              "      <td>234721</td>\n",
              "      <td>11th</td>\n",
              "      <td>7</td>\n",
              "      <td>Married-civ-spouse</td>\n",
              "      <td>Handlers-cleaners</td>\n",
              "      <td>Husband</td>\n",
              "      <td>Black</td>\n",
              "      <td>Male</td>\n",
              "      <td>0</td>\n",
              "      <td>0</td>\n",
              "      <td>40</td>\n",
              "      <td>United-States</td>\n",
              "      <td>0</td>\n",
              "    </tr>\n",
              "    <tr>\n",
              "      <th>4</th>\n",
              "      <td>4</td>\n",
              "      <td>28</td>\n",
              "      <td>Private</td>\n",
              "      <td>338409</td>\n",
              "      <td>Bachelors</td>\n",
              "      <td>13</td>\n",
              "      <td>Married-civ-spouse</td>\n",
              "      <td>Prof-specialty</td>\n",
              "      <td>Wife</td>\n",
              "      <td>Black</td>\n",
              "      <td>Female</td>\n",
              "      <td>0</td>\n",
              "      <td>0</td>\n",
              "      <td>40</td>\n",
              "      <td>Cuba</td>\n",
              "      <td>0</td>\n",
              "    </tr>\n",
              "  </tbody>\n",
              "</table>\n",
              "</div>\n",
              "    <div class=\"colab-df-buttons\">\n",
              "\n",
              "  <div class=\"colab-df-container\">\n",
              "    <button class=\"colab-df-convert\" onclick=\"convertToInteractive('df-f7c77f7b-f99c-433f-bbf1-7ff322312727')\"\n",
              "            title=\"Convert this dataframe to an interactive table.\"\n",
              "            style=\"display:none;\">\n",
              "\n",
              "  <svg xmlns=\"http://www.w3.org/2000/svg\" height=\"24px\" viewBox=\"0 -960 960 960\">\n",
              "    <path d=\"M120-120v-720h720v720H120Zm60-500h600v-160H180v160Zm220 220h160v-160H400v160Zm0 220h160v-160H400v160ZM180-400h160v-160H180v160Zm440 0h160v-160H620v160ZM180-180h160v-160H180v160Zm440 0h160v-160H620v160Z\"/>\n",
              "  </svg>\n",
              "    </button>\n",
              "\n",
              "  <style>\n",
              "    .colab-df-container {\n",
              "      display:flex;\n",
              "      gap: 12px;\n",
              "    }\n",
              "\n",
              "    .colab-df-convert {\n",
              "      background-color: #E8F0FE;\n",
              "      border: none;\n",
              "      border-radius: 50%;\n",
              "      cursor: pointer;\n",
              "      display: none;\n",
              "      fill: #1967D2;\n",
              "      height: 32px;\n",
              "      padding: 0 0 0 0;\n",
              "      width: 32px;\n",
              "    }\n",
              "\n",
              "    .colab-df-convert:hover {\n",
              "      background-color: #E2EBFA;\n",
              "      box-shadow: 0px 1px 2px rgba(60, 64, 67, 0.3), 0px 1px 3px 1px rgba(60, 64, 67, 0.15);\n",
              "      fill: #174EA6;\n",
              "    }\n",
              "\n",
              "    .colab-df-buttons div {\n",
              "      margin-bottom: 4px;\n",
              "    }\n",
              "\n",
              "    [theme=dark] .colab-df-convert {\n",
              "      background-color: #3B4455;\n",
              "      fill: #D2E3FC;\n",
              "    }\n",
              "\n",
              "    [theme=dark] .colab-df-convert:hover {\n",
              "      background-color: #434B5C;\n",
              "      box-shadow: 0px 1px 3px 1px rgba(0, 0, 0, 0.15);\n",
              "      filter: drop-shadow(0px 1px 2px rgba(0, 0, 0, 0.3));\n",
              "      fill: #FFFFFF;\n",
              "    }\n",
              "  </style>\n",
              "\n",
              "    <script>\n",
              "      const buttonEl =\n",
              "        document.querySelector('#df-f7c77f7b-f99c-433f-bbf1-7ff322312727 button.colab-df-convert');\n",
              "      buttonEl.style.display =\n",
              "        google.colab.kernel.accessAllowed ? 'block' : 'none';\n",
              "\n",
              "      async function convertToInteractive(key) {\n",
              "        const element = document.querySelector('#df-f7c77f7b-f99c-433f-bbf1-7ff322312727');\n",
              "        const dataTable =\n",
              "          await google.colab.kernel.invokeFunction('convertToInteractive',\n",
              "                                                    [key], {});\n",
              "        if (!dataTable) return;\n",
              "\n",
              "        const docLinkHtml = 'Like what you see? Visit the ' +\n",
              "          '<a target=\"_blank\" href=https://colab.research.google.com/notebooks/data_table.ipynb>data table notebook</a>'\n",
              "          + ' to learn more about interactive tables.';\n",
              "        element.innerHTML = '';\n",
              "        dataTable['output_type'] = 'display_data';\n",
              "        await google.colab.output.renderOutput(dataTable, element);\n",
              "        const docLink = document.createElement('div');\n",
              "        docLink.innerHTML = docLinkHtml;\n",
              "        element.appendChild(docLink);\n",
              "      }\n",
              "    </script>\n",
              "  </div>\n",
              "\n",
              "\n",
              "<div id=\"df-243defe3-310a-4510-b138-b5faf39279ef\">\n",
              "  <button class=\"colab-df-quickchart\" onclick=\"quickchart('df-243defe3-310a-4510-b138-b5faf39279ef')\"\n",
              "            title=\"Suggest charts\"\n",
              "            style=\"display:none;\">\n",
              "\n",
              "<svg xmlns=\"http://www.w3.org/2000/svg\" height=\"24px\"viewBox=\"0 0 24 24\"\n",
              "     width=\"24px\">\n",
              "    <g>\n",
              "        <path d=\"M19 3H5c-1.1 0-2 .9-2 2v14c0 1.1.9 2 2 2h14c1.1 0 2-.9 2-2V5c0-1.1-.9-2-2-2zM9 17H7v-7h2v7zm4 0h-2V7h2v10zm4 0h-2v-4h2v4z\"/>\n",
              "    </g>\n",
              "</svg>\n",
              "  </button>\n",
              "\n",
              "<style>\n",
              "  .colab-df-quickchart {\n",
              "      --bg-color: #E8F0FE;\n",
              "      --fill-color: #1967D2;\n",
              "      --hover-bg-color: #E2EBFA;\n",
              "      --hover-fill-color: #174EA6;\n",
              "      --disabled-fill-color: #AAA;\n",
              "      --disabled-bg-color: #DDD;\n",
              "  }\n",
              "\n",
              "  [theme=dark] .colab-df-quickchart {\n",
              "      --bg-color: #3B4455;\n",
              "      --fill-color: #D2E3FC;\n",
              "      --hover-bg-color: #434B5C;\n",
              "      --hover-fill-color: #FFFFFF;\n",
              "      --disabled-bg-color: #3B4455;\n",
              "      --disabled-fill-color: #666;\n",
              "  }\n",
              "\n",
              "  .colab-df-quickchart {\n",
              "    background-color: var(--bg-color);\n",
              "    border: none;\n",
              "    border-radius: 50%;\n",
              "    cursor: pointer;\n",
              "    display: none;\n",
              "    fill: var(--fill-color);\n",
              "    height: 32px;\n",
              "    padding: 0;\n",
              "    width: 32px;\n",
              "  }\n",
              "\n",
              "  .colab-df-quickchart:hover {\n",
              "    background-color: var(--hover-bg-color);\n",
              "    box-shadow: 0 1px 2px rgba(60, 64, 67, 0.3), 0 1px 3px 1px rgba(60, 64, 67, 0.15);\n",
              "    fill: var(--button-hover-fill-color);\n",
              "  }\n",
              "\n",
              "  .colab-df-quickchart-complete:disabled,\n",
              "  .colab-df-quickchart-complete:disabled:hover {\n",
              "    background-color: var(--disabled-bg-color);\n",
              "    fill: var(--disabled-fill-color);\n",
              "    box-shadow: none;\n",
              "  }\n",
              "\n",
              "  .colab-df-spinner {\n",
              "    border: 2px solid var(--fill-color);\n",
              "    border-color: transparent;\n",
              "    border-bottom-color: var(--fill-color);\n",
              "    animation:\n",
              "      spin 1s steps(1) infinite;\n",
              "  }\n",
              "\n",
              "  @keyframes spin {\n",
              "    0% {\n",
              "      border-color: transparent;\n",
              "      border-bottom-color: var(--fill-color);\n",
              "      border-left-color: var(--fill-color);\n",
              "    }\n",
              "    20% {\n",
              "      border-color: transparent;\n",
              "      border-left-color: var(--fill-color);\n",
              "      border-top-color: var(--fill-color);\n",
              "    }\n",
              "    30% {\n",
              "      border-color: transparent;\n",
              "      border-left-color: var(--fill-color);\n",
              "      border-top-color: var(--fill-color);\n",
              "      border-right-color: var(--fill-color);\n",
              "    }\n",
              "    40% {\n",
              "      border-color: transparent;\n",
              "      border-right-color: var(--fill-color);\n",
              "      border-top-color: var(--fill-color);\n",
              "    }\n",
              "    60% {\n",
              "      border-color: transparent;\n",
              "      border-right-color: var(--fill-color);\n",
              "    }\n",
              "    80% {\n",
              "      border-color: transparent;\n",
              "      border-right-color: var(--fill-color);\n",
              "      border-bottom-color: var(--fill-color);\n",
              "    }\n",
              "    90% {\n",
              "      border-color: transparent;\n",
              "      border-bottom-color: var(--fill-color);\n",
              "    }\n",
              "  }\n",
              "</style>\n",
              "\n",
              "  <script>\n",
              "    async function quickchart(key) {\n",
              "      const quickchartButtonEl =\n",
              "        document.querySelector('#' + key + ' button');\n",
              "      quickchartButtonEl.disabled = true;  // To prevent multiple clicks.\n",
              "      quickchartButtonEl.classList.add('colab-df-spinner');\n",
              "      try {\n",
              "        const charts = await google.colab.kernel.invokeFunction(\n",
              "            'suggestCharts', [key], {});\n",
              "      } catch (error) {\n",
              "        console.error('Error during call to suggestCharts:', error);\n",
              "      }\n",
              "      quickchartButtonEl.classList.remove('colab-df-spinner');\n",
              "      quickchartButtonEl.classList.add('colab-df-quickchart-complete');\n",
              "    }\n",
              "    (() => {\n",
              "      let quickchartButtonEl =\n",
              "        document.querySelector('#df-243defe3-310a-4510-b138-b5faf39279ef button');\n",
              "      quickchartButtonEl.style.display =\n",
              "        google.colab.kernel.accessAllowed ? 'block' : 'none';\n",
              "    })();\n",
              "  </script>\n",
              "</div>\n",
              "\n",
              "    </div>\n",
              "  </div>\n"
            ]
          },
          "metadata": {},
          "execution_count": 6
        }
      ],
      "source": [
        "df.head()"
      ]
    },
    {
      "cell_type": "code",
      "execution_count": 7,
      "id": "3bc61fa9",
      "metadata": {
        "id": "3bc61fa9",
        "colab": {
          "base_uri": "https://localhost:8080/"
        },
        "outputId": "bd06702b-0743-4337-bf46-5e8fcbee0458"
      },
      "outputs": [
        {
          "output_type": "execute_result",
          "data": {
            "text/plain": [
              "(1032, 16)"
            ]
          },
          "metadata": {},
          "execution_count": 7
        }
      ],
      "source": [
        "df.shape"
      ]
    },
    {
      "cell_type": "code",
      "execution_count": 8,
      "id": "6250e9a5",
      "metadata": {
        "id": "6250e9a5",
        "colab": {
          "base_uri": "https://localhost:8080/"
        },
        "outputId": "113ae1ad-b63d-4644-c234-d12870822590"
      },
      "outputs": [
        {
          "output_type": "execute_result",
          "data": {
            "text/plain": [
              "Unnamed: 0         int64\n",
              "age                int64\n",
              "Workclass         object\n",
              "fnlwgt             int64\n",
              "education         object\n",
              "education-num      int64\n",
              "marital-status    object\n",
              "occupation        object\n",
              "relationship      object\n",
              "race              object\n",
              "sex               object\n",
              "capital-gain       int64\n",
              "capital-loss       int64\n",
              "hours-per-week     int64\n",
              "native-country    object\n",
              "Income             int64\n",
              "dtype: object"
            ]
          },
          "metadata": {},
          "execution_count": 8
        }
      ],
      "source": [
        "df.dtypes"
      ]
    },
    {
      "cell_type": "code",
      "execution_count": 9,
      "id": "94129e56",
      "metadata": {
        "id": "94129e56",
        "colab": {
          "base_uri": "https://localhost:8080/"
        },
        "outputId": "1fd54c56-cfbf-4b6c-e74e-d0b8756ebbbf"
      },
      "outputs": [
        {
          "output_type": "execute_result",
          "data": {
            "text/plain": [
              "Unnamed: 0        0\n",
              "age               0\n",
              "Workclass         0\n",
              "fnlwgt            0\n",
              "education         0\n",
              "education-num     0\n",
              "marital-status    0\n",
              "occupation        0\n",
              "relationship      0\n",
              "race              0\n",
              "sex               0\n",
              "capital-gain      0\n",
              "capital-loss      0\n",
              "hours-per-week    0\n",
              "native-country    0\n",
              "Income            0\n",
              "dtype: int64"
            ]
          },
          "metadata": {},
          "execution_count": 9
        }
      ],
      "source": [
        "df.isnull().sum()"
      ]
    },
    {
      "cell_type": "code",
      "execution_count": 10,
      "id": "c82dd877",
      "metadata": {
        "id": "c82dd877"
      },
      "outputs": [],
      "source": [
        "#remove unwanted columns permanently\n",
        "df.drop(\"Unnamed: 0\",axis=1,inplace=True)"
      ]
    },
    {
      "cell_type": "code",
      "execution_count": 11,
      "id": "28884507",
      "metadata": {
        "id": "28884507",
        "colab": {
          "base_uri": "https://localhost:8080/"
        },
        "outputId": "374640fc-860d-485f-80cf-e4e34fbf005d"
      },
      "outputs": [
        {
          "output_type": "execute_result",
          "data": {
            "text/plain": [
              "age                int64\n",
              "Workclass         object\n",
              "fnlwgt             int64\n",
              "education         object\n",
              "education-num      int64\n",
              "marital-status    object\n",
              "occupation        object\n",
              "relationship      object\n",
              "race              object\n",
              "sex               object\n",
              "capital-gain       int64\n",
              "capital-loss       int64\n",
              "hours-per-week     int64\n",
              "native-country    object\n",
              "Income             int64\n",
              "dtype: object"
            ]
          },
          "metadata": {},
          "execution_count": 11
        }
      ],
      "source": [
        "df.dtypes"
      ]
    },
    {
      "cell_type": "code",
      "execution_count": 12,
      "id": "a6e28e79",
      "metadata": {
        "id": "a6e28e79",
        "colab": {
          "base_uri": "https://localhost:8080/"
        },
        "outputId": "d1ec8f13-96e0-49bb-9c3f-a14ff6fcb96e"
      },
      "outputs": [
        {
          "output_type": "execute_result",
          "data": {
            "text/plain": [
              "0"
            ]
          },
          "metadata": {},
          "execution_count": 12
        }
      ],
      "source": [
        "#check duplicate\n",
        "df.duplicated().sum()"
      ]
    },
    {
      "cell_type": "code",
      "execution_count": 13,
      "id": "a1634ec5",
      "metadata": {
        "id": "a1634ec5"
      },
      "outputs": [],
      "source": [
        "#separate object type data and numeric type\n",
        "#data in new dataframe df_obj and hold numeric type\n",
        "#use select_dtypes() inbuilt method\n",
        "df_obj=df.select_dtypes('object')\n",
        "df_num=df.select_dtypes('int64')"
      ]
    },
    {
      "cell_type": "code",
      "execution_count": 14,
      "id": "e2909401",
      "metadata": {
        "id": "e2909401",
        "colab": {
          "base_uri": "https://localhost:8080/"
        },
        "outputId": "21d908b7-53e5-4a01-e31b-a96097bc5c2d"
      },
      "outputs": [
        {
          "output_type": "execute_result",
          "data": {
            "text/plain": [
              "Workclass         object\n",
              "education         object\n",
              "marital-status    object\n",
              "occupation        object\n",
              "relationship      object\n",
              "race              object\n",
              "sex               object\n",
              "native-country    object\n",
              "dtype: object"
            ]
          },
          "metadata": {},
          "execution_count": 14
        }
      ],
      "source": [
        "df_obj.dtypes"
      ]
    },
    {
      "cell_type": "code",
      "execution_count": 15,
      "id": "94fff658",
      "metadata": {
        "id": "94fff658",
        "colab": {
          "base_uri": "https://localhost:8080/"
        },
        "outputId": "820ef66c-3203-443e-be35-c50a96308f4e"
      },
      "outputs": [
        {
          "output_type": "execute_result",
          "data": {
            "text/plain": [
              "age               int64\n",
              "fnlwgt            int64\n",
              "education-num     int64\n",
              "capital-gain      int64\n",
              "capital-loss      int64\n",
              "hours-per-week    int64\n",
              "Income            int64\n",
              "dtype: object"
            ]
          },
          "metadata": {},
          "execution_count": 15
        }
      ],
      "source": [
        "df_num.dtypes"
      ]
    },
    {
      "cell_type": "code",
      "execution_count": 16,
      "id": "02ac248c",
      "metadata": {
        "id": "02ac248c",
        "colab": {
          "base_uri": "https://localhost:8080/"
        },
        "outputId": "b5a6172c-9fd3-49d4-ee6e-21b8115095a4"
      },
      "outputs": [
        {
          "output_type": "execute_result",
          "data": {
            "text/plain": [
              "array([' State-gov', ' Self-emp-not-inc', ' Private', ' Federal-gov',\n",
              "       ' Local-gov', ' Self-emp-inc'], dtype=object)"
            ]
          },
          "metadata": {},
          "execution_count": 16
        }
      ],
      "source": [
        "df['Workclass'].unique()"
      ]
    },
    {
      "cell_type": "code",
      "execution_count": 17,
      "id": "0d4b0a8e",
      "metadata": {
        "id": "0d4b0a8e",
        "colab": {
          "base_uri": "https://localhost:8080/"
        },
        "outputId": "2b373a58-0b81-4e0b-b17c-5b06077e2a0e"
      },
      "outputs": [
        {
          "output_type": "execute_result",
          "data": {
            "text/plain": [
              "array([' Never-married', ' Married-civ-spouse', ' Divorced',\n",
              "       ' Married-spouse-absent', ' Separated', ' Married-AF-spouse',\n",
              "       ' Widowed'], dtype=object)"
            ]
          },
          "metadata": {},
          "execution_count": 17
        }
      ],
      "source": [
        "df['marital-status'].unique()"
      ]
    },
    {
      "cell_type": "code",
      "execution_count": 18,
      "id": "b63c0476",
      "metadata": {
        "id": "b63c0476"
      },
      "outputs": [],
      "source": [
        "column=df_obj.columns"
      ]
    },
    {
      "cell_type": "code",
      "execution_count": 19,
      "id": "b3d06300",
      "metadata": {
        "id": "b3d06300",
        "colab": {
          "base_uri": "https://localhost:8080/"
        },
        "outputId": "cf2b5637-766d-48a1-9cb8-c5140117254e"
      },
      "outputs": [
        {
          "output_type": "execute_result",
          "data": {
            "text/plain": [
              "Index(['Workclass', 'education', 'marital-status', 'occupation',\n",
              "       'relationship', 'race', 'sex', 'native-country'],\n",
              "      dtype='object')"
            ]
          },
          "metadata": {},
          "execution_count": 19
        }
      ],
      "source": [
        "column"
      ]
    },
    {
      "cell_type": "code",
      "execution_count": 20,
      "id": "6da6bf84",
      "metadata": {
        "id": "6da6bf84"
      },
      "outputs": [],
      "source": [
        "from sklearn.preprocessing import LabelEncoder\n",
        "for col in column :\n",
        "    #create object of label encoder class\n",
        "    le=LabelEncoder()\n",
        "    df_obj[col]=le.fit_transform(df_obj[col])"
      ]
    },
    {
      "cell_type": "code",
      "execution_count": 21,
      "id": "456964e8",
      "metadata": {
        "id": "456964e8",
        "colab": {
          "base_uri": "https://localhost:8080/"
        },
        "outputId": "a1177f0b-626f-4dc3-fb03-667efb67676f"
      },
      "outputs": [
        {
          "output_type": "execute_result",
          "data": {
            "text/plain": [
              "Workclass         int64\n",
              "education         int64\n",
              "marital-status    int64\n",
              "occupation        int64\n",
              "relationship      int64\n",
              "race              int64\n",
              "sex               int64\n",
              "native-country    int64\n",
              "dtype: object"
            ]
          },
          "metadata": {},
          "execution_count": 21
        }
      ],
      "source": [
        "df_obj.dtypes"
      ]
    },
    {
      "cell_type": "code",
      "execution_count": 22,
      "id": "3b62d1a4",
      "metadata": {
        "id": "3b62d1a4",
        "colab": {
          "base_uri": "https://localhost:8080/"
        },
        "outputId": "4feb68ec-5773-40c4-a431-2a5a687b74c7"
      },
      "outputs": [
        {
          "output_type": "execute_result",
          "data": {
            "text/plain": [
              "Workclass         int64\n",
              "education         int64\n",
              "marital-status    int64\n",
              "occupation        int64\n",
              "relationship      int64\n",
              "race              int64\n",
              "sex               int64\n",
              "native-country    int64\n",
              "age               int64\n",
              "fnlwgt            int64\n",
              "education-num     int64\n",
              "capital-gain      int64\n",
              "capital-loss      int64\n",
              "hours-per-week    int64\n",
              "Income            int64\n",
              "dtype: object"
            ]
          },
          "metadata": {},
          "execution_count": 22
        }
      ],
      "source": [
        "#merge df_num and df_obj and hold new dataframe df_new\n",
        "df_new=pd.concat([df_obj,df_num],axis =1)\n",
        "df_new.dtypes"
      ]
    },
    {
      "cell_type": "code",
      "execution_count": 23,
      "id": "4bfb86c5",
      "metadata": {
        "id": "4bfb86c5"
      },
      "outputs": [],
      "source": [
        "df_new.drop(\"education-num\",axis=1,inplace=True)"
      ]
    },
    {
      "cell_type": "code",
      "execution_count": 24,
      "id": "e3225c3d",
      "metadata": {
        "id": "e3225c3d",
        "colab": {
          "base_uri": "https://localhost:8080/"
        },
        "outputId": "f4665441-5558-4acc-fd25-51f951f2d65a"
      },
      "outputs": [
        {
          "output_type": "execute_result",
          "data": {
            "text/plain": [
              "0    778\n",
              "1    254\n",
              "Name: Income, dtype: int64"
            ]
          },
          "metadata": {},
          "execution_count": 24
        }
      ],
      "source": [
        "df_new['Income'].value_counts()"
      ]
    },
    {
      "cell_type": "code",
      "execution_count": 25,
      "id": "1b7eb527",
      "metadata": {
        "id": "1b7eb527"
      },
      "outputs": [],
      "source": [
        "#separate input and output\n",
        "X=df_new.drop(\"Income\",axis=1) #select input\n",
        "Y=df_new['Income'] #select output"
      ]
    },
    {
      "cell_type": "code",
      "execution_count": 26,
      "id": "b60d9bff",
      "metadata": {
        "id": "b60d9bff",
        "colab": {
          "base_uri": "https://localhost:8080/"
        },
        "outputId": "22341297-326a-4905-8b3c-a098816a27c7"
      },
      "outputs": [
        {
          "output_type": "execute_result",
          "data": {
            "text/plain": [
              "Index(['Workclass', 'education', 'marital-status', 'occupation',\n",
              "       'relationship', 'race', 'sex', 'native-country', 'age', 'fnlwgt',\n",
              "       'capital-gain', 'capital-loss', 'hours-per-week'],\n",
              "      dtype='object')"
            ]
          },
          "metadata": {},
          "execution_count": 26
        }
      ],
      "source": [
        "X.columns"
      ]
    },
    {
      "cell_type": "code",
      "execution_count": 27,
      "id": "03e25855",
      "metadata": {
        "id": "03e25855"
      },
      "outputs": [],
      "source": [
        "#train test split 70% and 30%\n",
        "from sklearn.model_selection import train_test_split\n",
        "X_train,X_test,Y_train,Y_test=train_test_split(X,Y,test_size=0.3,\n",
        "                                              random_state=1)"
      ]
    },
    {
      "cell_type": "code",
      "execution_count": 28,
      "id": "9af13d9b",
      "metadata": {
        "id": "9af13d9b",
        "colab": {
          "base_uri": "https://localhost:8080/"
        },
        "outputId": "ad22eaa9-e358-4e86-d8e5-178c64f70607"
      },
      "outputs": [
        {
          "output_type": "execute_result",
          "data": {
            "text/plain": [
              "((722, 13), (722,))"
            ]
          },
          "metadata": {},
          "execution_count": 28
        }
      ],
      "source": [
        "X_train.shape,Y_train.shape"
      ]
    },
    {
      "cell_type": "code",
      "execution_count": 29,
      "id": "b12af32e",
      "metadata": {
        "id": "b12af32e",
        "colab": {
          "base_uri": "https://localhost:8080/"
        },
        "outputId": "82772f4a-8b57-43c4-8b70-39c139264c6c"
      },
      "outputs": [
        {
          "output_type": "execute_result",
          "data": {
            "text/plain": [
              "((310, 13), (310,))"
            ]
          },
          "metadata": {},
          "execution_count": 29
        }
      ],
      "source": [
        "X_test.shape,Y_test.shape"
      ]
    },
    {
      "cell_type": "code",
      "execution_count": 30,
      "id": "bad2db2a",
      "metadata": {
        "id": "bad2db2a"
      },
      "outputs": [],
      "source": [
        "#apply StandardScaler\n",
        "from sklearn.preprocessing import StandardScaler\n",
        "ss=StandardScaler()\n",
        "X_train=ss.fit_transform(X_train)\n",
        "X_test=ss.transform(X_test)"
      ]
    },
    {
      "cell_type": "code",
      "execution_count": 31,
      "id": "4e9910fe",
      "metadata": {
        "id": "4e9910fe",
        "colab": {
          "base_uri": "https://localhost:8080/"
        },
        "outputId": "4df83781-2f9b-4d0b-97f4-ecd478e0f211"
      },
      "outputs": [
        {
          "output_type": "execute_result",
          "data": {
            "text/plain": [
              "array([[-0.24904966, -0.93217405, -0.37685422, ..., -0.24796148,\n",
              "        -0.2300775 , -0.10196177],\n",
              "       [-0.24904966,  0.17523798,  0.95691415, ...,  1.38249871,\n",
              "        -0.2300775 ,  0.77130512],\n",
              "       [-0.24904966, -0.37846803,  0.95691415, ..., -0.24796148,\n",
              "        -0.2300775 , -1.84849555],\n",
              "       ...,\n",
              "       [-1.2824626 , -0.65532104, -1.71062259, ..., -0.24796148,\n",
              "        -0.2300775 ,  1.29526525],\n",
              "       [ 1.81777623,  0.17523798,  0.95691415, ..., -0.24796148,\n",
              "        -0.2300775 ,  0.07269161],\n",
              "       [ 1.81777623,  0.17523798, -0.37685422, ..., -0.24796148,\n",
              "        -0.2300775 , -0.10196177]])"
            ]
          },
          "metadata": {},
          "execution_count": 31
        }
      ],
      "source": [
        "X_train"
      ]
    },
    {
      "cell_type": "code",
      "execution_count": 32,
      "id": "3bbb8d40",
      "metadata": {
        "id": "3bbb8d40",
        "colab": {
          "base_uri": "https://localhost:8080/"
        },
        "outputId": "08084a64-242a-4543-b318-6740ff0fbd29"
      },
      "outputs": [
        {
          "output_type": "execute_result",
          "data": {
            "text/plain": [
              "286    1\n",
              "600    0\n",
              "691    0\n",
              "474    0\n",
              "639    0\n",
              "      ..\n",
              "960    0\n",
              "847    0\n",
              "715    0\n",
              "905    0\n",
              "235    1\n",
              "Name: Income, Length: 722, dtype: int64"
            ]
          },
          "metadata": {},
          "execution_count": 32
        }
      ],
      "source": [
        "Y_train"
      ]
    },
    {
      "cell_type": "code",
      "execution_count": 33,
      "id": "a361399b",
      "metadata": {
        "id": "a361399b",
        "colab": {
          "base_uri": "https://localhost:8080/"
        },
        "outputId": "daa03e12-6304-467c-8944-4558fa5a29c4"
      },
      "outputs": [
        {
          "output_type": "execute_result",
          "data": {
            "text/plain": [
              "0    540\n",
              "1    182\n",
              "Name: Income, dtype: int64"
            ]
          },
          "metadata": {},
          "execution_count": 33
        }
      ],
      "source": [
        "Y_train.value_counts()"
      ]
    },
    {
      "cell_type": "code",
      "execution_count": 34,
      "id": "79c308e2",
      "metadata": {
        "id": "79c308e2"
      },
      "outputs": [],
      "source": [
        "#Data is unbalanced\n",
        "#use RandomOverSampler class: converts minority class into majority class\n",
        "#first time install imblearn\n",
        "#!pip install imblearn"
      ]
    },
    {
      "cell_type": "code",
      "execution_count": 35,
      "id": "22b0661e",
      "metadata": {
        "id": "22b0661e"
      },
      "outputs": [],
      "source": [
        "from imblearn.over_sampling import RandomOverSampler"
      ]
    },
    {
      "cell_type": "code",
      "execution_count": 36,
      "id": "599d243d",
      "metadata": {
        "id": "599d243d"
      },
      "outputs": [],
      "source": [
        "#create object of RandomOverSampler class\n",
        "ros=RandomOverSampler(random_state=1)"
      ]
    },
    {
      "cell_type": "code",
      "execution_count": 37,
      "id": "759453f4",
      "metadata": {
        "id": "759453f4"
      },
      "outputs": [],
      "source": [
        "#apply ROS on training input and output\n",
        "X_train1,Y_train1=ros.fit_resample(X_train,Y_train)"
      ]
    },
    {
      "cell_type": "code",
      "execution_count": 38,
      "id": "7ce85eff",
      "metadata": {
        "id": "7ce85eff",
        "colab": {
          "base_uri": "https://localhost:8080/"
        },
        "outputId": "aaa7b14a-1f20-450c-ddac-1aff77733be9"
      },
      "outputs": [
        {
          "output_type": "execute_result",
          "data": {
            "text/plain": [
              "1    540\n",
              "0    540\n",
              "Name: Income, dtype: int64"
            ]
          },
          "metadata": {},
          "execution_count": 38
        }
      ],
      "source": [
        "Y_train1.value_counts()"
      ]
    },
    {
      "cell_type": "code",
      "execution_count": 39,
      "id": "8b973a94",
      "metadata": {
        "id": "8b973a94",
        "colab": {
          "base_uri": "https://localhost:8080/"
        },
        "outputId": "59ce0395-512a-490a-9293-7f03980c99dd"
      },
      "outputs": [
        {
          "output_type": "execute_result",
          "data": {
            "text/plain": [
              "0    238\n",
              "1     72\n",
              "Name: Income, dtype: int64"
            ]
          },
          "metadata": {},
          "execution_count": 39
        }
      ],
      "source": [
        "Y_test.value_counts()"
      ]
    },
    {
      "cell_type": "code",
      "execution_count": 40,
      "id": "1726de34",
      "metadata": {
        "id": "1726de34"
      },
      "outputs": [],
      "source": [
        "#apply ROS on training input and output\n",
        "X_test1,Y_test1=ros.fit_resample(X_test,Y_test)"
      ]
    },
    {
      "cell_type": "code",
      "execution_count": 41,
      "id": "bc78ffd6",
      "metadata": {
        "id": "bc78ffd6",
        "colab": {
          "base_uri": "https://localhost:8080/"
        },
        "outputId": "866b7b3f-017e-4164-fa1b-469f9f2f9012"
      },
      "outputs": [
        {
          "output_type": "execute_result",
          "data": {
            "text/plain": [
              "0    238\n",
              "1    238\n",
              "Name: Income, dtype: int64"
            ]
          },
          "metadata": {},
          "execution_count": 41
        }
      ],
      "source": [
        "Y_test1.value_counts()"
      ]
    },
    {
      "cell_type": "code",
      "execution_count": 42,
      "id": "3fdd35ee",
      "metadata": {
        "id": "3fdd35ee"
      },
      "outputs": [],
      "source": [
        "def create_model(model) :  #here create_model() user defined function name\n",
        "    #model is a user defined parameter which hold the object of algorithm\n",
        "    model.fit(X_train1,Y_train1) #train the model with 70% training data\n",
        "    Y_pred=model.predict(X_test1) #test the model with 30% input\n",
        "    #print confusion matrix\n",
        "    print(confusion_matrix(Y_test1,Y_pred))\n",
        "    #print classification report\n",
        "    print(classification_report(Y_test1,Y_pred))\n",
        "    return model"
      ]
    },
    {
      "cell_type": "code",
      "execution_count": 43,
      "id": "343edd55",
      "metadata": {
        "id": "343edd55"
      },
      "outputs": [],
      "source": [
        "from sklearn.metrics import classification_report\n",
        "from sklearn.metrics import confusion_matrix"
      ]
    },
    {
      "cell_type": "code",
      "execution_count": 44,
      "id": "eb878dce",
      "metadata": {
        "id": "eb878dce"
      },
      "outputs": [],
      "source": [
        "#Use LogisticRegression Algorithm\n",
        "from sklearn.linear_model import LogisticRegression"
      ]
    },
    {
      "cell_type": "code",
      "execution_count": 45,
      "id": "bbc1816a",
      "metadata": {
        "id": "bbc1816a"
      },
      "outputs": [],
      "source": [
        "lr=LogisticRegression ()"
      ]
    },
    {
      "cell_type": "code",
      "execution_count": 46,
      "id": "21d5d0eb",
      "metadata": {
        "id": "21d5d0eb",
        "colab": {
          "base_uri": "https://localhost:8080/"
        },
        "outputId": "779f2e50-85a7-48ef-ccb2-50ac3e51d67b"
      },
      "outputs": [
        {
          "output_type": "stream",
          "name": "stdout",
          "text": [
            "[[172  66]\n",
            " [ 83 155]]\n",
            "              precision    recall  f1-score   support\n",
            "\n",
            "           0       0.67      0.72      0.70       238\n",
            "           1       0.70      0.65      0.68       238\n",
            "\n",
            "    accuracy                           0.69       476\n",
            "   macro avg       0.69      0.69      0.69       476\n",
            "weighted avg       0.69      0.69      0.69       476\n",
            "\n"
          ]
        }
      ],
      "source": [
        "lr=create_model(lr)"
      ]
    },
    {
      "cell_type": "code",
      "execution_count": 47,
      "id": "998f791b",
      "metadata": {
        "id": "998f791b"
      },
      "outputs": [],
      "source": [
        "#recall=65% which is not good amd f1 score is 68% which is not good\n",
        "#use DecisionTreeClassifier class"
      ]
    },
    {
      "cell_type": "code",
      "execution_count": 48,
      "id": "8d2c7055",
      "metadata": {
        "id": "8d2c7055"
      },
      "outputs": [],
      "source": [
        "from sklearn.tree import DecisionTreeClassifier"
      ]
    },
    {
      "cell_type": "code",
      "execution_count": 49,
      "id": "a1fa239d",
      "metadata": {
        "id": "a1fa239d"
      },
      "outputs": [],
      "source": [
        "#create object\n",
        "dt=DecisionTreeClassifier(random_state=1)"
      ]
    },
    {
      "cell_type": "code",
      "execution_count": 50,
      "id": "4bfc24b3",
      "metadata": {
        "id": "4bfc24b3",
        "colab": {
          "base_uri": "https://localhost:8080/"
        },
        "outputId": "7902de4b-6ce4-4f0e-a47b-4fe8a92680ac"
      },
      "outputs": [
        {
          "output_type": "stream",
          "name": "stdout",
          "text": [
            "[[208  30]\n",
            " [131 107]]\n",
            "              precision    recall  f1-score   support\n",
            "\n",
            "           0       0.61      0.87      0.72       238\n",
            "           1       0.78      0.45      0.57       238\n",
            "\n",
            "    accuracy                           0.66       476\n",
            "   macro avg       0.70      0.66      0.65       476\n",
            "weighted avg       0.70      0.66      0.65       476\n",
            "\n"
          ]
        }
      ],
      "source": [
        "#call function\n",
        "dt=create_model(dt)"
      ]
    },
    {
      "cell_type": "code",
      "execution_count": 51,
      "id": "76979e32",
      "metadata": {
        "id": "76979e32"
      },
      "outputs": [],
      "source": [
        "#recall score is 45% which is not good and difference is more than 20"
      ]
    },
    {
      "cell_type": "code",
      "execution_count": 52,
      "id": "76bc7038",
      "metadata": {
        "id": "76bc7038",
        "colab": {
          "base_uri": "https://localhost:8080/",
          "height": 52
        },
        "outputId": "aa660048-0fe4-421b-aa93-623423637f5e"
      },
      "outputs": [
        {
          "output_type": "execute_result",
          "data": {
            "text/plain": [
              "'for i in range(1,9):\\n    dt1=DecisionTreeClassifier(random_state=1,max_depth=i)\\n\\n    print(\"Max depth: \",i)\\n    print(\"Confusion matrix and classification report\")\\n    dt1=create_model(dt1)'"
            ],
            "application/vnd.google.colaboratory.intrinsic+json": {
              "type": "string"
            }
          },
          "metadata": {},
          "execution_count": 52
        }
      ],
      "source": [
        "'''for i in range(1,9):\n",
        "    dt1=DecisionTreeClassifier(random_state=1,max_depth=i)\n",
        "\n",
        "    print(\"Max depth: \",i)\n",
        "    print(\"Confusion matrix and classification report\")\n",
        "    dt1=create_model(dt1)'''"
      ]
    },
    {
      "cell_type": "code",
      "source": [
        "dt1=DecisionTreeClassifier(random_state=1,max_depth=6)\n",
        "print(\"Confusion matrix and classification report\")\n",
        "dt1=create_model(dt1)"
      ],
      "metadata": {
        "colab": {
          "base_uri": "https://localhost:8080/"
        },
        "id": "hC05uVrEZDUo",
        "outputId": "24122c5b-3ac4-4401-bfcd-5bc30f8432db"
      },
      "id": "hC05uVrEZDUo",
      "execution_count": 53,
      "outputs": [
        {
          "output_type": "stream",
          "name": "stdout",
          "text": [
            "Confusion matrix and classification report\n",
            "[[179  59]\n",
            " [ 37 201]]\n",
            "              precision    recall  f1-score   support\n",
            "\n",
            "           0       0.83      0.75      0.79       238\n",
            "           1       0.77      0.84      0.81       238\n",
            "\n",
            "    accuracy                           0.80       476\n",
            "   macro avg       0.80      0.80      0.80       476\n",
            "weighted avg       0.80      0.80      0.80       476\n",
            "\n"
          ]
        }
      ]
    },
    {
      "cell_type": "code",
      "source": [
        "#Pruning technique(Gini index) at depth 6= f1 score = 81% and accuracy = 80%"
      ],
      "metadata": {
        "id": "rcsyCLUTZm6Y"
      },
      "id": "rcsyCLUTZm6Y",
      "execution_count": 54,
      "outputs": []
    },
    {
      "cell_type": "code",
      "source": [
        "#using entropy\n",
        "'''for i in range(1,9):\n",
        "    dt1=DecisionTreeClassifier(random_state=1,max_depth=i,criterion='entropy')\n",
        "\n",
        "    print(\"Max depth: \",i)\n",
        "    print(\"Confusion matrix and classification report\")\n",
        "    dt1=create_model(dt1)'''"
      ],
      "metadata": {
        "colab": {
          "base_uri": "https://localhost:8080/",
          "height": 52
        },
        "id": "5LnR4T7yZuQw",
        "outputId": "69c0b372-1609-4c43-8bf7-64aa39a0ea31"
      },
      "id": "5LnR4T7yZuQw",
      "execution_count": 55,
      "outputs": [
        {
          "output_type": "execute_result",
          "data": {
            "text/plain": [
              "'for i in range(1,9):\\n    dt1=DecisionTreeClassifier(random_state=1,max_depth=i,criterion=\\'entropy\\')\\n\\n    print(\"Max depth: \",i)\\n    print(\"Confusion matrix and classification report\")\\n    dt1=create_model(dt1)'"
            ],
            "application/vnd.google.colaboratory.intrinsic+json": {
              "type": "string"
            }
          },
          "metadata": {},
          "execution_count": 55
        }
      ]
    },
    {
      "cell_type": "code",
      "source": [
        "dt1=DecisionTreeClassifier(random_state=1,max_depth=6,criterion='entropy')\n",
        "print(\"Confusion matrix and classification report\")\n",
        "dt1=create_model(dt1)"
      ],
      "metadata": {
        "colab": {
          "base_uri": "https://localhost:8080/"
        },
        "id": "oLK_Vr0baHTw",
        "outputId": "ec5207e9-fa4f-4f60-8338-06bada78759e"
      },
      "id": "oLK_Vr0baHTw",
      "execution_count": 56,
      "outputs": [
        {
          "output_type": "stream",
          "name": "stdout",
          "text": [
            "Confusion matrix and classification report\n",
            "[[172  66]\n",
            " [ 29 209]]\n",
            "              precision    recall  f1-score   support\n",
            "\n",
            "           0       0.86      0.72      0.78       238\n",
            "           1       0.76      0.88      0.81       238\n",
            "\n",
            "    accuracy                           0.80       476\n",
            "   macro avg       0.81      0.80      0.80       476\n",
            "weighted avg       0.81      0.80      0.80       476\n",
            "\n"
          ]
        }
      ]
    },
    {
      "cell_type": "code",
      "source": [
        "#Pruning technique(entropy) at depth 6= f1 score = 81% and accuracy = 80%"
      ],
      "metadata": {
        "id": "AaKWgzI2adxB"
      },
      "id": "AaKWgzI2adxB",
      "execution_count": 57,
      "outputs": []
    },
    {
      "cell_type": "code",
      "source": [
        "#Second Pruning technique: min_samples_leaf\n",
        "'''for i in range(45,101):\n",
        "    dt1=DecisionTreeClassifier(random_state=1,min_samples_leaf=i)\n",
        "\n",
        "    print(\"Min_samples leaf depth: \",i)\n",
        "    print(\"Confusion matrix and classification report\")\n",
        "    dt1=create_model(dt1)'''"
      ],
      "metadata": {
        "colab": {
          "base_uri": "https://localhost:8080/",
          "height": 52
        },
        "id": "nEY96Irkaqvk",
        "outputId": "78c352b8-e883-40e9-dbc5-dcbaa212be65"
      },
      "id": "nEY96Irkaqvk",
      "execution_count": 58,
      "outputs": [
        {
          "output_type": "execute_result",
          "data": {
            "text/plain": [
              "'for i in range(45,101):\\n    dt1=DecisionTreeClassifier(random_state=1,min_samples_leaf=i)\\n\\n    print(\"Min_samples leaf depth: \",i)\\n    print(\"Confusion matrix and classification report\")\\n    dt1=create_model(dt1)'"
            ],
            "application/vnd.google.colaboratory.intrinsic+json": {
              "type": "string"
            }
          },
          "metadata": {},
          "execution_count": 58
        }
      ]
    },
    {
      "cell_type": "code",
      "source": [
        "dt1=DecisionTreeClassifier(random_state=1,min_samples_leaf=47)\n",
        "\n",
        "print(\"Confusion matrix and classification report\")\n",
        "dt1=create_model(dt1)"
      ],
      "metadata": {
        "colab": {
          "base_uri": "https://localhost:8080/"
        },
        "id": "9MmmlRBla7sx",
        "outputId": "940c4287-e3ad-4013-a97d-513e8a81447d"
      },
      "id": "9MmmlRBla7sx",
      "execution_count": 59,
      "outputs": [
        {
          "output_type": "stream",
          "name": "stdout",
          "text": [
            "Confusion matrix and classification report\n",
            "[[163  75]\n",
            " [ 34 204]]\n",
            "              precision    recall  f1-score   support\n",
            "\n",
            "           0       0.83      0.68      0.75       238\n",
            "           1       0.73      0.86      0.79       238\n",
            "\n",
            "    accuracy                           0.77       476\n",
            "   macro avg       0.78      0.77      0.77       476\n",
            "weighted avg       0.78      0.77      0.77       476\n",
            "\n"
          ]
        }
      ]
    },
    {
      "cell_type": "code",
      "source": [
        "#Min samples leaf = recall = 86%, f1= 79% and accuracy 77%"
      ],
      "metadata": {
        "id": "FD-mk5ShcJ9C"
      },
      "id": "FD-mk5ShcJ9C",
      "execution_count": 60,
      "outputs": []
    },
    {
      "cell_type": "code",
      "source": [
        "#RandomForestTree(Bagging)\n",
        "from sklearn.ensemble import RandomForestClassifier"
      ],
      "metadata": {
        "id": "YxvKtSo14IqU"
      },
      "id": "YxvKtSo14IqU",
      "execution_count": 61,
      "outputs": []
    },
    {
      "cell_type": "code",
      "source": [
        "'''for i in range(10,101):\n",
        "    rfc=RandomForestClassifier(random_state=1,n_estimators=i)\n",
        "    print(\"No. of Decision Trees: \",i)\n",
        "    rfc=create_model(rfc)'''"
      ],
      "metadata": {
        "id": "3VCxki_lcZeU",
        "colab": {
          "base_uri": "https://localhost:8080/",
          "height": 52
        },
        "outputId": "5c0e6acb-89b2-4095-9b91-98d7fdbe0b9a"
      },
      "id": "3VCxki_lcZeU",
      "execution_count": 62,
      "outputs": [
        {
          "output_type": "execute_result",
          "data": {
            "text/plain": [
              "'for i in range(10,101):\\n    rfc=RandomForestClassifier(random_state=1,n_estimators=i)\\n    print(\"No. of Decision Trees: \",i)\\n    rfc=create_model(rfc)'"
            ],
            "application/vnd.google.colaboratory.intrinsic+json": {
              "type": "string"
            }
          },
          "metadata": {},
          "execution_count": 62
        }
      ]
    },
    {
      "cell_type": "code",
      "source": [
        "rfc=RandomForestClassifier(random_state=1,n_estimators=23)\n",
        "\n",
        "rfc=create_model(rfc)\n",
        "rfc.feature_importances_"
      ],
      "metadata": {
        "colab": {
          "base_uri": "https://localhost:8080/"
        },
        "id": "gpLc7Npo4Hg6",
        "outputId": "aa9c7a1c-d1ce-43ec-80ac-488fa39196df"
      },
      "id": "gpLc7Npo4Hg6",
      "execution_count": 63,
      "outputs": [
        {
          "output_type": "stream",
          "name": "stdout",
          "text": [
            "[[214  24]\n",
            " [ 82 156]]\n",
            "              precision    recall  f1-score   support\n",
            "\n",
            "           0       0.72      0.90      0.80       238\n",
            "           1       0.87      0.66      0.75       238\n",
            "\n",
            "    accuracy                           0.78       476\n",
            "   macro avg       0.79      0.78      0.77       476\n",
            "weighted avg       0.79      0.78      0.77       476\n",
            "\n"
          ]
        },
        {
          "output_type": "execute_result",
          "data": {
            "text/plain": [
              "array([0.05008077, 0.09451036, 0.13680087, 0.08947789, 0.13219011,\n",
              "       0.01734925, 0.01040916, 0.01397095, 0.14674686, 0.12748022,\n",
              "       0.06353732, 0.01442739, 0.10301885])"
            ]
          },
          "metadata": {},
          "execution_count": 63
        }
      ]
    },
    {
      "cell_type": "code",
      "source": [
        "#recall score=66%(0.66), f1 score= 75%\n",
        "#accuracy=(0.85)"
      ],
      "metadata": {
        "id": "Bd3yINiu4Cs8"
      },
      "id": "Bd3yINiu4Cs8",
      "execution_count": 64,
      "outputs": []
    },
    {
      "cell_type": "code",
      "source": [
        "from sklearn.ensemble import AdaBoostClassifier"
      ],
      "metadata": {
        "id": "3n7VGGL35ZAA"
      },
      "id": "3n7VGGL35ZAA",
      "execution_count": 65,
      "outputs": []
    },
    {
      "cell_type": "code",
      "source": [
        "for i in range(1,17):\n",
        "    #create object\n",
        "    ada=AdaBoostClassifier(random_state=1,n_estimators=i)\n",
        "    print(\"No. of decision stumps: \",i)\n",
        "    ada=create_model(ada)"
      ],
      "metadata": {
        "colab": {
          "base_uri": "https://localhost:8080/"
        },
        "id": "ZcJaxhbD5ima",
        "outputId": "2ea2401f-dc24-49d0-9058-58002d18e364"
      },
      "id": "ZcJaxhbD5ima",
      "execution_count": 66,
      "outputs": [
        {
          "output_type": "stream",
          "name": "stdout",
          "text": [
            "No. of decision stumps:  1\n",
            "[[125 113]\n",
            " [ 33 205]]\n",
            "              precision    recall  f1-score   support\n",
            "\n",
            "           0       0.79      0.53      0.63       238\n",
            "           1       0.64      0.86      0.74       238\n",
            "\n",
            "    accuracy                           0.69       476\n",
            "   macro avg       0.72      0.69      0.68       476\n",
            "weighted avg       0.72      0.69      0.68       476\n",
            "\n",
            "No. of decision stumps:  2\n",
            "[[125 113]\n",
            " [ 30 208]]\n",
            "              precision    recall  f1-score   support\n",
            "\n",
            "           0       0.81      0.53      0.64       238\n",
            "           1       0.65      0.87      0.74       238\n",
            "\n",
            "    accuracy                           0.70       476\n",
            "   macro avg       0.73      0.70      0.69       476\n",
            "weighted avg       0.73      0.70      0.69       476\n",
            "\n",
            "No. of decision stumps:  3\n",
            "[[138 100]\n",
            " [ 30 208]]\n",
            "              precision    recall  f1-score   support\n",
            "\n",
            "           0       0.82      0.58      0.68       238\n",
            "           1       0.68      0.87      0.76       238\n",
            "\n",
            "    accuracy                           0.73       476\n",
            "   macro avg       0.75      0.73      0.72       476\n",
            "weighted avg       0.75      0.73      0.72       476\n",
            "\n",
            "No. of decision stumps:  4\n",
            "[[170  68]\n",
            " [ 41 197]]\n",
            "              precision    recall  f1-score   support\n",
            "\n",
            "           0       0.81      0.71      0.76       238\n",
            "           1       0.74      0.83      0.78       238\n",
            "\n",
            "    accuracy                           0.77       476\n",
            "   macro avg       0.77      0.77      0.77       476\n",
            "weighted avg       0.77      0.77      0.77       476\n",
            "\n",
            "No. of decision stumps:  5\n",
            "[[179  59]\n",
            " [ 66 172]]\n",
            "              precision    recall  f1-score   support\n",
            "\n",
            "           0       0.73      0.75      0.74       238\n",
            "           1       0.74      0.72      0.73       238\n",
            "\n",
            "    accuracy                           0.74       476\n",
            "   macro avg       0.74      0.74      0.74       476\n",
            "weighted avg       0.74      0.74      0.74       476\n",
            "\n",
            "No. of decision stumps:  6\n",
            "[[179  59]\n",
            " [ 66 172]]\n",
            "              precision    recall  f1-score   support\n",
            "\n",
            "           0       0.73      0.75      0.74       238\n",
            "           1       0.74      0.72      0.73       238\n",
            "\n",
            "    accuracy                           0.74       476\n",
            "   macro avg       0.74      0.74      0.74       476\n",
            "weighted avg       0.74      0.74      0.74       476\n",
            "\n",
            "No. of decision stumps:  7\n",
            "[[190  48]\n",
            " [ 69 169]]\n",
            "              precision    recall  f1-score   support\n",
            "\n",
            "           0       0.73      0.80      0.76       238\n",
            "           1       0.78      0.71      0.74       238\n",
            "\n",
            "    accuracy                           0.75       476\n",
            "   macro avg       0.76      0.75      0.75       476\n",
            "weighted avg       0.76      0.75      0.75       476\n",
            "\n",
            "No. of decision stumps:  8\n",
            "[[187  51]\n",
            " [ 63 175]]\n",
            "              precision    recall  f1-score   support\n",
            "\n",
            "           0       0.75      0.79      0.77       238\n",
            "           1       0.77      0.74      0.75       238\n",
            "\n",
            "    accuracy                           0.76       476\n",
            "   macro avg       0.76      0.76      0.76       476\n",
            "weighted avg       0.76      0.76      0.76       476\n",
            "\n",
            "No. of decision stumps:  9\n",
            "[[187  51]\n",
            " [ 60 178]]\n",
            "              precision    recall  f1-score   support\n",
            "\n",
            "           0       0.76      0.79      0.77       238\n",
            "           1       0.78      0.75      0.76       238\n",
            "\n",
            "    accuracy                           0.77       476\n",
            "   macro avg       0.77      0.77      0.77       476\n",
            "weighted avg       0.77      0.77      0.77       476\n",
            "\n",
            "No. of decision stumps:  10\n",
            "[[185  53]\n",
            " [ 60 178]]\n",
            "              precision    recall  f1-score   support\n",
            "\n",
            "           0       0.76      0.78      0.77       238\n",
            "           1       0.77      0.75      0.76       238\n",
            "\n",
            "    accuracy                           0.76       476\n",
            "   macro avg       0.76      0.76      0.76       476\n",
            "weighted avg       0.76      0.76      0.76       476\n",
            "\n",
            "No. of decision stumps:  11\n",
            "[[190  48]\n",
            " [ 60 178]]\n",
            "              precision    recall  f1-score   support\n",
            "\n",
            "           0       0.76      0.80      0.78       238\n",
            "           1       0.79      0.75      0.77       238\n",
            "\n",
            "    accuracy                           0.77       476\n",
            "   macro avg       0.77      0.77      0.77       476\n",
            "weighted avg       0.77      0.77      0.77       476\n",
            "\n",
            "No. of decision stumps:  12\n",
            "[[190  48]\n",
            " [ 60 178]]\n",
            "              precision    recall  f1-score   support\n",
            "\n",
            "           0       0.76      0.80      0.78       238\n",
            "           1       0.79      0.75      0.77       238\n",
            "\n",
            "    accuracy                           0.77       476\n",
            "   macro avg       0.77      0.77      0.77       476\n",
            "weighted avg       0.77      0.77      0.77       476\n",
            "\n",
            "No. of decision stumps:  13\n",
            "[[191  47]\n",
            " [ 62 176]]\n",
            "              precision    recall  f1-score   support\n",
            "\n",
            "           0       0.75      0.80      0.78       238\n",
            "           1       0.79      0.74      0.76       238\n",
            "\n",
            "    accuracy                           0.77       476\n",
            "   macro avg       0.77      0.77      0.77       476\n",
            "weighted avg       0.77      0.77      0.77       476\n",
            "\n",
            "No. of decision stumps:  14\n",
            "[[192  46]\n",
            " [ 62 176]]\n",
            "              precision    recall  f1-score   support\n",
            "\n",
            "           0       0.76      0.81      0.78       238\n",
            "           1       0.79      0.74      0.77       238\n",
            "\n",
            "    accuracy                           0.77       476\n",
            "   macro avg       0.77      0.77      0.77       476\n",
            "weighted avg       0.77      0.77      0.77       476\n",
            "\n",
            "No. of decision stumps:  15\n",
            "[[191  47]\n",
            " [ 66 172]]\n",
            "              precision    recall  f1-score   support\n",
            "\n",
            "           0       0.74      0.80      0.77       238\n",
            "           1       0.79      0.72      0.75       238\n",
            "\n",
            "    accuracy                           0.76       476\n",
            "   macro avg       0.76      0.76      0.76       476\n",
            "weighted avg       0.76      0.76      0.76       476\n",
            "\n",
            "No. of decision stumps:  16\n",
            "[[190  48]\n",
            " [ 68 170]]\n",
            "              precision    recall  f1-score   support\n",
            "\n",
            "           0       0.74      0.80      0.77       238\n",
            "           1       0.78      0.71      0.75       238\n",
            "\n",
            "    accuracy                           0.76       476\n",
            "   macro avg       0.76      0.76      0.76       476\n",
            "weighted avg       0.76      0.76      0.76       476\n",
            "\n"
          ]
        }
      ]
    },
    {
      "cell_type": "code",
      "source": [
        "ada=AdaBoostClassifier(random_state=1,n_estimators=4)\n",
        "ada=create_model(ada)\n",
        "ada.feature_importances_"
      ],
      "metadata": {
        "colab": {
          "base_uri": "https://localhost:8080/"
        },
        "id": "MSsPzJ4l5pFK",
        "outputId": "aff9bc43-3d04-4832-e8ea-720004478624"
      },
      "id": "MSsPzJ4l5pFK",
      "execution_count": 67,
      "outputs": [
        {
          "output_type": "stream",
          "name": "stdout",
          "text": [
            "[[170  68]\n",
            " [ 41 197]]\n",
            "              precision    recall  f1-score   support\n",
            "\n",
            "           0       0.81      0.71      0.76       238\n",
            "           1       0.74      0.83      0.78       238\n",
            "\n",
            "    accuracy                           0.77       476\n",
            "   macro avg       0.77      0.77      0.77       476\n",
            "weighted avg       0.77      0.77      0.77       476\n",
            "\n"
          ]
        },
        {
          "output_type": "execute_result",
          "data": {
            "text/plain": [
              "array([0.  , 0.  , 0.5 , 0.  , 0.  , 0.  , 0.  , 0.  , 0.25, 0.  , 0.25,\n",
              "       0.  , 0.  ])"
            ]
          },
          "metadata": {},
          "execution_count": 67
        }
      ]
    },
    {
      "cell_type": "code",
      "source": [
        "#ada boost (f1 score= 78% and accuracy= 77%)"
      ],
      "metadata": {
        "id": "7qakjiSb6IUY"
      },
      "id": "7qakjiSb6IUY",
      "execution_count": 68,
      "outputs": []
    },
    {
      "cell_type": "code",
      "source": [
        "#gradient Boosting Algo\n",
        "from sklearn.ensemble import GradientBoostingClassifier"
      ],
      "metadata": {
        "id": "FKDZBz2558kY"
      },
      "id": "FKDZBz2558kY",
      "execution_count": 69,
      "outputs": []
    },
    {
      "cell_type": "code",
      "source": [
        "for i in range(10,101):\n",
        "    gbc=GradientBoostingClassifier(random_state=1,n_estimators=i)\n",
        "    print(\"No. of Decision Trees: \",i)\n",
        "    gbc=create_model(gbc)"
      ],
      "metadata": {
        "colab": {
          "base_uri": "https://localhost:8080/"
        },
        "id": "76Rl7zql6HC7",
        "outputId": "aa2dd21d-57cc-4ec7-bfa3-719575570292"
      },
      "id": "76Rl7zql6HC7",
      "execution_count": 70,
      "outputs": [
        {
          "output_type": "stream",
          "name": "stdout",
          "text": [
            "No. of Decision Trees:  10\n",
            "[[166  72]\n",
            " [ 37 201]]\n",
            "              precision    recall  f1-score   support\n",
            "\n",
            "           0       0.82      0.70      0.75       238\n",
            "           1       0.74      0.84      0.79       238\n",
            "\n",
            "    accuracy                           0.77       476\n",
            "   macro avg       0.78      0.77      0.77       476\n",
            "weighted avg       0.78      0.77      0.77       476\n",
            "\n",
            "No. of Decision Trees:  11\n",
            "[[163  75]\n",
            " [ 34 204]]\n",
            "              precision    recall  f1-score   support\n",
            "\n",
            "           0       0.83      0.68      0.75       238\n",
            "           1       0.73      0.86      0.79       238\n",
            "\n",
            "    accuracy                           0.77       476\n",
            "   macro avg       0.78      0.77      0.77       476\n",
            "weighted avg       0.78      0.77      0.77       476\n",
            "\n",
            "No. of Decision Trees:  12\n",
            "[[163  75]\n",
            " [ 37 201]]\n",
            "              precision    recall  f1-score   support\n",
            "\n",
            "           0       0.81      0.68      0.74       238\n",
            "           1       0.73      0.84      0.78       238\n",
            "\n",
            "    accuracy                           0.76       476\n",
            "   macro avg       0.77      0.76      0.76       476\n",
            "weighted avg       0.77      0.76      0.76       476\n",
            "\n",
            "No. of Decision Trees:  13\n",
            "[[166  72]\n",
            " [ 37 201]]\n",
            "              precision    recall  f1-score   support\n",
            "\n",
            "           0       0.82      0.70      0.75       238\n",
            "           1       0.74      0.84      0.79       238\n",
            "\n",
            "    accuracy                           0.77       476\n",
            "   macro avg       0.78      0.77      0.77       476\n",
            "weighted avg       0.78      0.77      0.77       476\n",
            "\n",
            "No. of Decision Trees:  14\n",
            "[[167  71]\n",
            " [ 37 201]]\n",
            "              precision    recall  f1-score   support\n",
            "\n",
            "           0       0.82      0.70      0.76       238\n",
            "           1       0.74      0.84      0.79       238\n",
            "\n",
            "    accuracy                           0.77       476\n",
            "   macro avg       0.78      0.77      0.77       476\n",
            "weighted avg       0.78      0.77      0.77       476\n",
            "\n",
            "No. of Decision Trees:  15\n",
            "[[174  64]\n",
            " [ 37 201]]\n",
            "              precision    recall  f1-score   support\n",
            "\n",
            "           0       0.82      0.73      0.78       238\n",
            "           1       0.76      0.84      0.80       238\n",
            "\n",
            "    accuracy                           0.79       476\n",
            "   macro avg       0.79      0.79      0.79       476\n",
            "weighted avg       0.79      0.79      0.79       476\n",
            "\n",
            "No. of Decision Trees:  16\n",
            "[[174  64]\n",
            " [ 40 198]]\n",
            "              precision    recall  f1-score   support\n",
            "\n",
            "           0       0.81      0.73      0.77       238\n",
            "           1       0.76      0.83      0.79       238\n",
            "\n",
            "    accuracy                           0.78       476\n",
            "   macro avg       0.78      0.78      0.78       476\n",
            "weighted avg       0.78      0.78      0.78       476\n",
            "\n",
            "No. of Decision Trees:  17\n",
            "[[180  58]\n",
            " [ 45 193]]\n",
            "              precision    recall  f1-score   support\n",
            "\n",
            "           0       0.80      0.76      0.78       238\n",
            "           1       0.77      0.81      0.79       238\n",
            "\n",
            "    accuracy                           0.78       476\n",
            "   macro avg       0.78      0.78      0.78       476\n",
            "weighted avg       0.78      0.78      0.78       476\n",
            "\n",
            "No. of Decision Trees:  18\n",
            "[[181  57]\n",
            " [ 49 189]]\n",
            "              precision    recall  f1-score   support\n",
            "\n",
            "           0       0.79      0.76      0.77       238\n",
            "           1       0.77      0.79      0.78       238\n",
            "\n",
            "    accuracy                           0.78       476\n",
            "   macro avg       0.78      0.78      0.78       476\n",
            "weighted avg       0.78      0.78      0.78       476\n",
            "\n",
            "No. of Decision Trees:  19\n",
            "[[180  58]\n",
            " [ 49 189]]\n",
            "              precision    recall  f1-score   support\n",
            "\n",
            "           0       0.79      0.76      0.77       238\n",
            "           1       0.77      0.79      0.78       238\n",
            "\n",
            "    accuracy                           0.78       476\n",
            "   macro avg       0.78      0.78      0.78       476\n",
            "weighted avg       0.78      0.78      0.78       476\n",
            "\n",
            "No. of Decision Trees:  20\n",
            "[[179  59]\n",
            " [ 52 186]]\n",
            "              precision    recall  f1-score   support\n",
            "\n",
            "           0       0.77      0.75      0.76       238\n",
            "           1       0.76      0.78      0.77       238\n",
            "\n",
            "    accuracy                           0.77       476\n",
            "   macro avg       0.77      0.77      0.77       476\n",
            "weighted avg       0.77      0.77      0.77       476\n",
            "\n",
            "No. of Decision Trees:  21\n",
            "[[180  58]\n",
            " [ 52 186]]\n",
            "              precision    recall  f1-score   support\n",
            "\n",
            "           0       0.78      0.76      0.77       238\n",
            "           1       0.76      0.78      0.77       238\n",
            "\n",
            "    accuracy                           0.77       476\n",
            "   macro avg       0.77      0.77      0.77       476\n",
            "weighted avg       0.77      0.77      0.77       476\n",
            "\n",
            "No. of Decision Trees:  22\n",
            "[[180  58]\n",
            " [ 52 186]]\n",
            "              precision    recall  f1-score   support\n",
            "\n",
            "           0       0.78      0.76      0.77       238\n",
            "           1       0.76      0.78      0.77       238\n",
            "\n",
            "    accuracy                           0.77       476\n",
            "   macro avg       0.77      0.77      0.77       476\n",
            "weighted avg       0.77      0.77      0.77       476\n",
            "\n",
            "No. of Decision Trees:  23\n",
            "[[181  57]\n",
            " [ 51 187]]\n",
            "              precision    recall  f1-score   support\n",
            "\n",
            "           0       0.78      0.76      0.77       238\n",
            "           1       0.77      0.79      0.78       238\n",
            "\n",
            "    accuracy                           0.77       476\n",
            "   macro avg       0.77      0.77      0.77       476\n",
            "weighted avg       0.77      0.77      0.77       476\n",
            "\n",
            "No. of Decision Trees:  24\n",
            "[[181  57]\n",
            " [ 51 187]]\n",
            "              precision    recall  f1-score   support\n",
            "\n",
            "           0       0.78      0.76      0.77       238\n",
            "           1       0.77      0.79      0.78       238\n",
            "\n",
            "    accuracy                           0.77       476\n",
            "   macro avg       0.77      0.77      0.77       476\n",
            "weighted avg       0.77      0.77      0.77       476\n",
            "\n",
            "No. of Decision Trees:  25\n",
            "[[181  57]\n",
            " [ 53 185]]\n",
            "              precision    recall  f1-score   support\n",
            "\n",
            "           0       0.77      0.76      0.77       238\n",
            "           1       0.76      0.78      0.77       238\n",
            "\n",
            "    accuracy                           0.77       476\n",
            "   macro avg       0.77      0.77      0.77       476\n",
            "weighted avg       0.77      0.77      0.77       476\n",
            "\n",
            "No. of Decision Trees:  26\n",
            "[[181  57]\n",
            " [ 53 185]]\n",
            "              precision    recall  f1-score   support\n",
            "\n",
            "           0       0.77      0.76      0.77       238\n",
            "           1       0.76      0.78      0.77       238\n",
            "\n",
            "    accuracy                           0.77       476\n",
            "   macro avg       0.77      0.77      0.77       476\n",
            "weighted avg       0.77      0.77      0.77       476\n",
            "\n",
            "No. of Decision Trees:  27\n",
            "[[182  56]\n",
            " [ 50 188]]\n",
            "              precision    recall  f1-score   support\n",
            "\n",
            "           0       0.78      0.76      0.77       238\n",
            "           1       0.77      0.79      0.78       238\n",
            "\n",
            "    accuracy                           0.78       476\n",
            "   macro avg       0.78      0.78      0.78       476\n",
            "weighted avg       0.78      0.78      0.78       476\n",
            "\n",
            "No. of Decision Trees:  28\n",
            "[[181  57]\n",
            " [ 48 190]]\n",
            "              precision    recall  f1-score   support\n",
            "\n",
            "           0       0.79      0.76      0.78       238\n",
            "           1       0.77      0.80      0.78       238\n",
            "\n",
            "    accuracy                           0.78       476\n",
            "   macro avg       0.78      0.78      0.78       476\n",
            "weighted avg       0.78      0.78      0.78       476\n",
            "\n",
            "No. of Decision Trees:  29\n",
            "[[182  56]\n",
            " [ 50 188]]\n",
            "              precision    recall  f1-score   support\n",
            "\n",
            "           0       0.78      0.76      0.77       238\n",
            "           1       0.77      0.79      0.78       238\n",
            "\n",
            "    accuracy                           0.78       476\n",
            "   macro avg       0.78      0.78      0.78       476\n",
            "weighted avg       0.78      0.78      0.78       476\n",
            "\n",
            "No. of Decision Trees:  30\n",
            "[[184  54]\n",
            " [ 50 188]]\n",
            "              precision    recall  f1-score   support\n",
            "\n",
            "           0       0.79      0.77      0.78       238\n",
            "           1       0.78      0.79      0.78       238\n",
            "\n",
            "    accuracy                           0.78       476\n",
            "   macro avg       0.78      0.78      0.78       476\n",
            "weighted avg       0.78      0.78      0.78       476\n",
            "\n",
            "No. of Decision Trees:  31\n",
            "[[184  54]\n",
            " [ 50 188]]\n",
            "              precision    recall  f1-score   support\n",
            "\n",
            "           0       0.79      0.77      0.78       238\n",
            "           1       0.78      0.79      0.78       238\n",
            "\n",
            "    accuracy                           0.78       476\n",
            "   macro avg       0.78      0.78      0.78       476\n",
            "weighted avg       0.78      0.78      0.78       476\n",
            "\n",
            "No. of Decision Trees:  32\n",
            "[[184  54]\n",
            " [ 50 188]]\n",
            "              precision    recall  f1-score   support\n",
            "\n",
            "           0       0.79      0.77      0.78       238\n",
            "           1       0.78      0.79      0.78       238\n",
            "\n",
            "    accuracy                           0.78       476\n",
            "   macro avg       0.78      0.78      0.78       476\n",
            "weighted avg       0.78      0.78      0.78       476\n",
            "\n",
            "No. of Decision Trees:  33\n",
            "[[183  55]\n",
            " [ 53 185]]\n",
            "              precision    recall  f1-score   support\n",
            "\n",
            "           0       0.78      0.77      0.77       238\n",
            "           1       0.77      0.78      0.77       238\n",
            "\n",
            "    accuracy                           0.77       476\n",
            "   macro avg       0.77      0.77      0.77       476\n",
            "weighted avg       0.77      0.77      0.77       476\n",
            "\n",
            "No. of Decision Trees:  34\n",
            "[[183  55]\n",
            " [ 53 185]]\n",
            "              precision    recall  f1-score   support\n",
            "\n",
            "           0       0.78      0.77      0.77       238\n",
            "           1       0.77      0.78      0.77       238\n",
            "\n",
            "    accuracy                           0.77       476\n",
            "   macro avg       0.77      0.77      0.77       476\n",
            "weighted avg       0.77      0.77      0.77       476\n",
            "\n",
            "No. of Decision Trees:  35\n",
            "[[182  56]\n",
            " [ 50 188]]\n",
            "              precision    recall  f1-score   support\n",
            "\n",
            "           0       0.78      0.76      0.77       238\n",
            "           1       0.77      0.79      0.78       238\n",
            "\n",
            "    accuracy                           0.78       476\n",
            "   macro avg       0.78      0.78      0.78       476\n",
            "weighted avg       0.78      0.78      0.78       476\n",
            "\n",
            "No. of Decision Trees:  36\n",
            "[[183  55]\n",
            " [ 56 182]]\n",
            "              precision    recall  f1-score   support\n",
            "\n",
            "           0       0.77      0.77      0.77       238\n",
            "           1       0.77      0.76      0.77       238\n",
            "\n",
            "    accuracy                           0.77       476\n",
            "   macro avg       0.77      0.77      0.77       476\n",
            "weighted avg       0.77      0.77      0.77       476\n",
            "\n",
            "No. of Decision Trees:  37\n",
            "[[183  55]\n",
            " [ 50 188]]\n",
            "              precision    recall  f1-score   support\n",
            "\n",
            "           0       0.79      0.77      0.78       238\n",
            "           1       0.77      0.79      0.78       238\n",
            "\n",
            "    accuracy                           0.78       476\n",
            "   macro avg       0.78      0.78      0.78       476\n",
            "weighted avg       0.78      0.78      0.78       476\n",
            "\n",
            "No. of Decision Trees:  38\n",
            "[[183  55]\n",
            " [ 53 185]]\n",
            "              precision    recall  f1-score   support\n",
            "\n",
            "           0       0.78      0.77      0.77       238\n",
            "           1       0.77      0.78      0.77       238\n",
            "\n",
            "    accuracy                           0.77       476\n",
            "   macro avg       0.77      0.77      0.77       476\n",
            "weighted avg       0.77      0.77      0.77       476\n",
            "\n",
            "No. of Decision Trees:  39\n",
            "[[183  55]\n",
            " [ 53 185]]\n",
            "              precision    recall  f1-score   support\n",
            "\n",
            "           0       0.78      0.77      0.77       238\n",
            "           1       0.77      0.78      0.77       238\n",
            "\n",
            "    accuracy                           0.77       476\n",
            "   macro avg       0.77      0.77      0.77       476\n",
            "weighted avg       0.77      0.77      0.77       476\n",
            "\n",
            "No. of Decision Trees:  40\n",
            "[[186  52]\n",
            " [ 53 185]]\n",
            "              precision    recall  f1-score   support\n",
            "\n",
            "           0       0.78      0.78      0.78       238\n",
            "           1       0.78      0.78      0.78       238\n",
            "\n",
            "    accuracy                           0.78       476\n",
            "   macro avg       0.78      0.78      0.78       476\n",
            "weighted avg       0.78      0.78      0.78       476\n",
            "\n",
            "No. of Decision Trees:  41\n",
            "[[187  51]\n",
            " [ 53 185]]\n",
            "              precision    recall  f1-score   support\n",
            "\n",
            "           0       0.78      0.79      0.78       238\n",
            "           1       0.78      0.78      0.78       238\n",
            "\n",
            "    accuracy                           0.78       476\n",
            "   macro avg       0.78      0.78      0.78       476\n",
            "weighted avg       0.78      0.78      0.78       476\n",
            "\n",
            "No. of Decision Trees:  42\n",
            "[[186  52]\n",
            " [ 53 185]]\n",
            "              precision    recall  f1-score   support\n",
            "\n",
            "           0       0.78      0.78      0.78       238\n",
            "           1       0.78      0.78      0.78       238\n",
            "\n",
            "    accuracy                           0.78       476\n",
            "   macro avg       0.78      0.78      0.78       476\n",
            "weighted avg       0.78      0.78      0.78       476\n",
            "\n",
            "No. of Decision Trees:  43\n",
            "[[187  51]\n",
            " [ 53 185]]\n",
            "              precision    recall  f1-score   support\n",
            "\n",
            "           0       0.78      0.79      0.78       238\n",
            "           1       0.78      0.78      0.78       238\n",
            "\n",
            "    accuracy                           0.78       476\n",
            "   macro avg       0.78      0.78      0.78       476\n",
            "weighted avg       0.78      0.78      0.78       476\n",
            "\n",
            "No. of Decision Trees:  44\n",
            "[[186  52]\n",
            " [ 51 187]]\n",
            "              precision    recall  f1-score   support\n",
            "\n",
            "           0       0.78      0.78      0.78       238\n",
            "           1       0.78      0.79      0.78       238\n",
            "\n",
            "    accuracy                           0.78       476\n",
            "   macro avg       0.78      0.78      0.78       476\n",
            "weighted avg       0.78      0.78      0.78       476\n",
            "\n",
            "No. of Decision Trees:  45\n",
            "[[187  51]\n",
            " [ 45 193]]\n",
            "              precision    recall  f1-score   support\n",
            "\n",
            "           0       0.81      0.79      0.80       238\n",
            "           1       0.79      0.81      0.80       238\n",
            "\n",
            "    accuracy                           0.80       476\n",
            "   macro avg       0.80      0.80      0.80       476\n",
            "weighted avg       0.80      0.80      0.80       476\n",
            "\n",
            "No. of Decision Trees:  46\n",
            "[[187  51]\n",
            " [ 48 190]]\n",
            "              precision    recall  f1-score   support\n",
            "\n",
            "           0       0.80      0.79      0.79       238\n",
            "           1       0.79      0.80      0.79       238\n",
            "\n",
            "    accuracy                           0.79       476\n",
            "   macro avg       0.79      0.79      0.79       476\n",
            "weighted avg       0.79      0.79      0.79       476\n",
            "\n",
            "No. of Decision Trees:  47\n",
            "[[187  51]\n",
            " [ 48 190]]\n",
            "              precision    recall  f1-score   support\n",
            "\n",
            "           0       0.80      0.79      0.79       238\n",
            "           1       0.79      0.80      0.79       238\n",
            "\n",
            "    accuracy                           0.79       476\n",
            "   macro avg       0.79      0.79      0.79       476\n",
            "weighted avg       0.79      0.79      0.79       476\n",
            "\n",
            "No. of Decision Trees:  48\n",
            "[[187  51]\n",
            " [ 52 186]]\n",
            "              precision    recall  f1-score   support\n",
            "\n",
            "           0       0.78      0.79      0.78       238\n",
            "           1       0.78      0.78      0.78       238\n",
            "\n",
            "    accuracy                           0.78       476\n",
            "   macro avg       0.78      0.78      0.78       476\n",
            "weighted avg       0.78      0.78      0.78       476\n",
            "\n",
            "No. of Decision Trees:  49\n",
            "[[188  50]\n",
            " [ 52 186]]\n",
            "              precision    recall  f1-score   support\n",
            "\n",
            "           0       0.78      0.79      0.79       238\n",
            "           1       0.79      0.78      0.78       238\n",
            "\n",
            "    accuracy                           0.79       476\n",
            "   macro avg       0.79      0.79      0.79       476\n",
            "weighted avg       0.79      0.79      0.79       476\n",
            "\n",
            "No. of Decision Trees:  50\n",
            "[[189  49]\n",
            " [ 52 186]]\n",
            "              precision    recall  f1-score   support\n",
            "\n",
            "           0       0.78      0.79      0.79       238\n",
            "           1       0.79      0.78      0.79       238\n",
            "\n",
            "    accuracy                           0.79       476\n",
            "   macro avg       0.79      0.79      0.79       476\n",
            "weighted avg       0.79      0.79      0.79       476\n",
            "\n",
            "No. of Decision Trees:  51\n",
            "[[191  47]\n",
            " [ 48 190]]\n",
            "              precision    recall  f1-score   support\n",
            "\n",
            "           0       0.80      0.80      0.80       238\n",
            "           1       0.80      0.80      0.80       238\n",
            "\n",
            "    accuracy                           0.80       476\n",
            "   macro avg       0.80      0.80      0.80       476\n",
            "weighted avg       0.80      0.80      0.80       476\n",
            "\n",
            "No. of Decision Trees:  52\n",
            "[[189  49]\n",
            " [ 55 183]]\n",
            "              precision    recall  f1-score   support\n",
            "\n",
            "           0       0.77      0.79      0.78       238\n",
            "           1       0.79      0.77      0.78       238\n",
            "\n",
            "    accuracy                           0.78       476\n",
            "   macro avg       0.78      0.78      0.78       476\n",
            "weighted avg       0.78      0.78      0.78       476\n",
            "\n",
            "No. of Decision Trees:  53\n",
            "[[190  48]\n",
            " [ 56 182]]\n",
            "              precision    recall  f1-score   support\n",
            "\n",
            "           0       0.77      0.80      0.79       238\n",
            "           1       0.79      0.76      0.78       238\n",
            "\n",
            "    accuracy                           0.78       476\n",
            "   macro avg       0.78      0.78      0.78       476\n",
            "weighted avg       0.78      0.78      0.78       476\n",
            "\n",
            "No. of Decision Trees:  54\n",
            "[[191  47]\n",
            " [ 58 180]]\n",
            "              precision    recall  f1-score   support\n",
            "\n",
            "           0       0.77      0.80      0.78       238\n",
            "           1       0.79      0.76      0.77       238\n",
            "\n",
            "    accuracy                           0.78       476\n",
            "   macro avg       0.78      0.78      0.78       476\n",
            "weighted avg       0.78      0.78      0.78       476\n",
            "\n",
            "No. of Decision Trees:  55\n",
            "[[192  46]\n",
            " [ 58 180]]\n",
            "              precision    recall  f1-score   support\n",
            "\n",
            "           0       0.77      0.81      0.79       238\n",
            "           1       0.80      0.76      0.78       238\n",
            "\n",
            "    accuracy                           0.78       476\n",
            "   macro avg       0.78      0.78      0.78       476\n",
            "weighted avg       0.78      0.78      0.78       476\n",
            "\n",
            "No. of Decision Trees:  56\n",
            "[[191  47]\n",
            " [ 58 180]]\n",
            "              precision    recall  f1-score   support\n",
            "\n",
            "           0       0.77      0.80      0.78       238\n",
            "           1       0.79      0.76      0.77       238\n",
            "\n",
            "    accuracy                           0.78       476\n",
            "   macro avg       0.78      0.78      0.78       476\n",
            "weighted avg       0.78      0.78      0.78       476\n",
            "\n",
            "No. of Decision Trees:  57\n",
            "[[192  46]\n",
            " [ 59 179]]\n",
            "              precision    recall  f1-score   support\n",
            "\n",
            "           0       0.76      0.81      0.79       238\n",
            "           1       0.80      0.75      0.77       238\n",
            "\n",
            "    accuracy                           0.78       476\n",
            "   macro avg       0.78      0.78      0.78       476\n",
            "weighted avg       0.78      0.78      0.78       476\n",
            "\n",
            "No. of Decision Trees:  58\n",
            "[[192  46]\n",
            " [ 59 179]]\n",
            "              precision    recall  f1-score   support\n",
            "\n",
            "           0       0.76      0.81      0.79       238\n",
            "           1       0.80      0.75      0.77       238\n",
            "\n",
            "    accuracy                           0.78       476\n",
            "   macro avg       0.78      0.78      0.78       476\n",
            "weighted avg       0.78      0.78      0.78       476\n",
            "\n",
            "No. of Decision Trees:  59\n",
            "[[192  46]\n",
            " [ 59 179]]\n",
            "              precision    recall  f1-score   support\n",
            "\n",
            "           0       0.76      0.81      0.79       238\n",
            "           1       0.80      0.75      0.77       238\n",
            "\n",
            "    accuracy                           0.78       476\n",
            "   macro avg       0.78      0.78      0.78       476\n",
            "weighted avg       0.78      0.78      0.78       476\n",
            "\n",
            "No. of Decision Trees:  60\n",
            "[[191  47]\n",
            " [ 56 182]]\n",
            "              precision    recall  f1-score   support\n",
            "\n",
            "           0       0.77      0.80      0.79       238\n",
            "           1       0.79      0.76      0.78       238\n",
            "\n",
            "    accuracy                           0.78       476\n",
            "   macro avg       0.78      0.78      0.78       476\n",
            "weighted avg       0.78      0.78      0.78       476\n",
            "\n",
            "No. of Decision Trees:  61\n",
            "[[191  47]\n",
            " [ 56 182]]\n",
            "              precision    recall  f1-score   support\n",
            "\n",
            "           0       0.77      0.80      0.79       238\n",
            "           1       0.79      0.76      0.78       238\n",
            "\n",
            "    accuracy                           0.78       476\n",
            "   macro avg       0.78      0.78      0.78       476\n",
            "weighted avg       0.78      0.78      0.78       476\n",
            "\n",
            "No. of Decision Trees:  62\n",
            "[[190  48]\n",
            " [ 56 182]]\n",
            "              precision    recall  f1-score   support\n",
            "\n",
            "           0       0.77      0.80      0.79       238\n",
            "           1       0.79      0.76      0.78       238\n",
            "\n",
            "    accuracy                           0.78       476\n",
            "   macro avg       0.78      0.78      0.78       476\n",
            "weighted avg       0.78      0.78      0.78       476\n",
            "\n",
            "No. of Decision Trees:  63\n",
            "[[192  46]\n",
            " [ 56 182]]\n",
            "              precision    recall  f1-score   support\n",
            "\n",
            "           0       0.77      0.81      0.79       238\n",
            "           1       0.80      0.76      0.78       238\n",
            "\n",
            "    accuracy                           0.79       476\n",
            "   macro avg       0.79      0.79      0.79       476\n",
            "weighted avg       0.79      0.79      0.79       476\n",
            "\n",
            "No. of Decision Trees:  64\n",
            "[[191  47]\n",
            " [ 56 182]]\n",
            "              precision    recall  f1-score   support\n",
            "\n",
            "           0       0.77      0.80      0.79       238\n",
            "           1       0.79      0.76      0.78       238\n",
            "\n",
            "    accuracy                           0.78       476\n",
            "   macro avg       0.78      0.78      0.78       476\n",
            "weighted avg       0.78      0.78      0.78       476\n",
            "\n",
            "No. of Decision Trees:  65\n",
            "[[190  48]\n",
            " [ 56 182]]\n",
            "              precision    recall  f1-score   support\n",
            "\n",
            "           0       0.77      0.80      0.79       238\n",
            "           1       0.79      0.76      0.78       238\n",
            "\n",
            "    accuracy                           0.78       476\n",
            "   macro avg       0.78      0.78      0.78       476\n",
            "weighted avg       0.78      0.78      0.78       476\n",
            "\n",
            "No. of Decision Trees:  66\n",
            "[[191  47]\n",
            " [ 56 182]]\n",
            "              precision    recall  f1-score   support\n",
            "\n",
            "           0       0.77      0.80      0.79       238\n",
            "           1       0.79      0.76      0.78       238\n",
            "\n",
            "    accuracy                           0.78       476\n",
            "   macro avg       0.78      0.78      0.78       476\n",
            "weighted avg       0.78      0.78      0.78       476\n",
            "\n",
            "No. of Decision Trees:  67\n",
            "[[191  47]\n",
            " [ 56 182]]\n",
            "              precision    recall  f1-score   support\n",
            "\n",
            "           0       0.77      0.80      0.79       238\n",
            "           1       0.79      0.76      0.78       238\n",
            "\n",
            "    accuracy                           0.78       476\n",
            "   macro avg       0.78      0.78      0.78       476\n",
            "weighted avg       0.78      0.78      0.78       476\n",
            "\n",
            "No. of Decision Trees:  68\n",
            "[[191  47]\n",
            " [ 56 182]]\n",
            "              precision    recall  f1-score   support\n",
            "\n",
            "           0       0.77      0.80      0.79       238\n",
            "           1       0.79      0.76      0.78       238\n",
            "\n",
            "    accuracy                           0.78       476\n",
            "   macro avg       0.78      0.78      0.78       476\n",
            "weighted avg       0.78      0.78      0.78       476\n",
            "\n",
            "No. of Decision Trees:  69\n",
            "[[191  47]\n",
            " [ 56 182]]\n",
            "              precision    recall  f1-score   support\n",
            "\n",
            "           0       0.77      0.80      0.79       238\n",
            "           1       0.79      0.76      0.78       238\n",
            "\n",
            "    accuracy                           0.78       476\n",
            "   macro avg       0.78      0.78      0.78       476\n",
            "weighted avg       0.78      0.78      0.78       476\n",
            "\n",
            "No. of Decision Trees:  70\n",
            "[[191  47]\n",
            " [ 56 182]]\n",
            "              precision    recall  f1-score   support\n",
            "\n",
            "           0       0.77      0.80      0.79       238\n",
            "           1       0.79      0.76      0.78       238\n",
            "\n",
            "    accuracy                           0.78       476\n",
            "   macro avg       0.78      0.78      0.78       476\n",
            "weighted avg       0.78      0.78      0.78       476\n",
            "\n",
            "No. of Decision Trees:  71\n",
            "[[193  45]\n",
            " [ 56 182]]\n",
            "              precision    recall  f1-score   support\n",
            "\n",
            "           0       0.78      0.81      0.79       238\n",
            "           1       0.80      0.76      0.78       238\n",
            "\n",
            "    accuracy                           0.79       476\n",
            "   macro avg       0.79      0.79      0.79       476\n",
            "weighted avg       0.79      0.79      0.79       476\n",
            "\n",
            "No. of Decision Trees:  72\n",
            "[[192  46]\n",
            " [ 56 182]]\n",
            "              precision    recall  f1-score   support\n",
            "\n",
            "           0       0.77      0.81      0.79       238\n",
            "           1       0.80      0.76      0.78       238\n",
            "\n",
            "    accuracy                           0.79       476\n",
            "   macro avg       0.79      0.79      0.79       476\n",
            "weighted avg       0.79      0.79      0.79       476\n",
            "\n",
            "No. of Decision Trees:  73\n",
            "[[192  46]\n",
            " [ 56 182]]\n",
            "              precision    recall  f1-score   support\n",
            "\n",
            "           0       0.77      0.81      0.79       238\n",
            "           1       0.80      0.76      0.78       238\n",
            "\n",
            "    accuracy                           0.79       476\n",
            "   macro avg       0.79      0.79      0.79       476\n",
            "weighted avg       0.79      0.79      0.79       476\n",
            "\n",
            "No. of Decision Trees:  74\n",
            "[[192  46]\n",
            " [ 56 182]]\n",
            "              precision    recall  f1-score   support\n",
            "\n",
            "           0       0.77      0.81      0.79       238\n",
            "           1       0.80      0.76      0.78       238\n",
            "\n",
            "    accuracy                           0.79       476\n",
            "   macro avg       0.79      0.79      0.79       476\n",
            "weighted avg       0.79      0.79      0.79       476\n",
            "\n",
            "No. of Decision Trees:  75\n",
            "[[192  46]\n",
            " [ 56 182]]\n",
            "              precision    recall  f1-score   support\n",
            "\n",
            "           0       0.77      0.81      0.79       238\n",
            "           1       0.80      0.76      0.78       238\n",
            "\n",
            "    accuracy                           0.79       476\n",
            "   macro avg       0.79      0.79      0.79       476\n",
            "weighted avg       0.79      0.79      0.79       476\n",
            "\n",
            "No. of Decision Trees:  76\n",
            "[[193  45]\n",
            " [ 56 182]]\n",
            "              precision    recall  f1-score   support\n",
            "\n",
            "           0       0.78      0.81      0.79       238\n",
            "           1       0.80      0.76      0.78       238\n",
            "\n",
            "    accuracy                           0.79       476\n",
            "   macro avg       0.79      0.79      0.79       476\n",
            "weighted avg       0.79      0.79      0.79       476\n",
            "\n",
            "No. of Decision Trees:  77\n",
            "[[193  45]\n",
            " [ 56 182]]\n",
            "              precision    recall  f1-score   support\n",
            "\n",
            "           0       0.78      0.81      0.79       238\n",
            "           1       0.80      0.76      0.78       238\n",
            "\n",
            "    accuracy                           0.79       476\n",
            "   macro avg       0.79      0.79      0.79       476\n",
            "weighted avg       0.79      0.79      0.79       476\n",
            "\n",
            "No. of Decision Trees:  78\n",
            "[[193  45]\n",
            " [ 56 182]]\n",
            "              precision    recall  f1-score   support\n",
            "\n",
            "           0       0.78      0.81      0.79       238\n",
            "           1       0.80      0.76      0.78       238\n",
            "\n",
            "    accuracy                           0.79       476\n",
            "   macro avg       0.79      0.79      0.79       476\n",
            "weighted avg       0.79      0.79      0.79       476\n",
            "\n",
            "No. of Decision Trees:  79\n",
            "[[193  45]\n",
            " [ 56 182]]\n",
            "              precision    recall  f1-score   support\n",
            "\n",
            "           0       0.78      0.81      0.79       238\n",
            "           1       0.80      0.76      0.78       238\n",
            "\n",
            "    accuracy                           0.79       476\n",
            "   macro avg       0.79      0.79      0.79       476\n",
            "weighted avg       0.79      0.79      0.79       476\n",
            "\n",
            "No. of Decision Trees:  80\n",
            "[[194  44]\n",
            " [ 56 182]]\n",
            "              precision    recall  f1-score   support\n",
            "\n",
            "           0       0.78      0.82      0.80       238\n",
            "           1       0.81      0.76      0.78       238\n",
            "\n",
            "    accuracy                           0.79       476\n",
            "   macro avg       0.79      0.79      0.79       476\n",
            "weighted avg       0.79      0.79      0.79       476\n",
            "\n",
            "No. of Decision Trees:  81\n",
            "[[193  45]\n",
            " [ 56 182]]\n",
            "              precision    recall  f1-score   support\n",
            "\n",
            "           0       0.78      0.81      0.79       238\n",
            "           1       0.80      0.76      0.78       238\n",
            "\n",
            "    accuracy                           0.79       476\n",
            "   macro avg       0.79      0.79      0.79       476\n",
            "weighted avg       0.79      0.79      0.79       476\n",
            "\n",
            "No. of Decision Trees:  82\n",
            "[[193  45]\n",
            " [ 56 182]]\n",
            "              precision    recall  f1-score   support\n",
            "\n",
            "           0       0.78      0.81      0.79       238\n",
            "           1       0.80      0.76      0.78       238\n",
            "\n",
            "    accuracy                           0.79       476\n",
            "   macro avg       0.79      0.79      0.79       476\n",
            "weighted avg       0.79      0.79      0.79       476\n",
            "\n",
            "No. of Decision Trees:  83\n",
            "[[193  45]\n",
            " [ 56 182]]\n",
            "              precision    recall  f1-score   support\n",
            "\n",
            "           0       0.78      0.81      0.79       238\n",
            "           1       0.80      0.76      0.78       238\n",
            "\n",
            "    accuracy                           0.79       476\n",
            "   macro avg       0.79      0.79      0.79       476\n",
            "weighted avg       0.79      0.79      0.79       476\n",
            "\n",
            "No. of Decision Trees:  84\n",
            "[[193  45]\n",
            " [ 56 182]]\n",
            "              precision    recall  f1-score   support\n",
            "\n",
            "           0       0.78      0.81      0.79       238\n",
            "           1       0.80      0.76      0.78       238\n",
            "\n",
            "    accuracy                           0.79       476\n",
            "   macro avg       0.79      0.79      0.79       476\n",
            "weighted avg       0.79      0.79      0.79       476\n",
            "\n",
            "No. of Decision Trees:  85\n",
            "[[193  45]\n",
            " [ 56 182]]\n",
            "              precision    recall  f1-score   support\n",
            "\n",
            "           0       0.78      0.81      0.79       238\n",
            "           1       0.80      0.76      0.78       238\n",
            "\n",
            "    accuracy                           0.79       476\n",
            "   macro avg       0.79      0.79      0.79       476\n",
            "weighted avg       0.79      0.79      0.79       476\n",
            "\n",
            "No. of Decision Trees:  86\n",
            "[[194  44]\n",
            " [ 56 182]]\n",
            "              precision    recall  f1-score   support\n",
            "\n",
            "           0       0.78      0.82      0.80       238\n",
            "           1       0.81      0.76      0.78       238\n",
            "\n",
            "    accuracy                           0.79       476\n",
            "   macro avg       0.79      0.79      0.79       476\n",
            "weighted avg       0.79      0.79      0.79       476\n",
            "\n",
            "No. of Decision Trees:  87\n",
            "[[193  45]\n",
            " [ 56 182]]\n",
            "              precision    recall  f1-score   support\n",
            "\n",
            "           0       0.78      0.81      0.79       238\n",
            "           1       0.80      0.76      0.78       238\n",
            "\n",
            "    accuracy                           0.79       476\n",
            "   macro avg       0.79      0.79      0.79       476\n",
            "weighted avg       0.79      0.79      0.79       476\n",
            "\n",
            "No. of Decision Trees:  88\n",
            "[[195  43]\n",
            " [ 56 182]]\n",
            "              precision    recall  f1-score   support\n",
            "\n",
            "           0       0.78      0.82      0.80       238\n",
            "           1       0.81      0.76      0.79       238\n",
            "\n",
            "    accuracy                           0.79       476\n",
            "   macro avg       0.79      0.79      0.79       476\n",
            "weighted avg       0.79      0.79      0.79       476\n",
            "\n",
            "No. of Decision Trees:  89\n",
            "[[194  44]\n",
            " [ 56 182]]\n",
            "              precision    recall  f1-score   support\n",
            "\n",
            "           0       0.78      0.82      0.80       238\n",
            "           1       0.81      0.76      0.78       238\n",
            "\n",
            "    accuracy                           0.79       476\n",
            "   macro avg       0.79      0.79      0.79       476\n",
            "weighted avg       0.79      0.79      0.79       476\n",
            "\n",
            "No. of Decision Trees:  90\n",
            "[[194  44]\n",
            " [ 56 182]]\n",
            "              precision    recall  f1-score   support\n",
            "\n",
            "           0       0.78      0.82      0.80       238\n",
            "           1       0.81      0.76      0.78       238\n",
            "\n",
            "    accuracy                           0.79       476\n",
            "   macro avg       0.79      0.79      0.79       476\n",
            "weighted avg       0.79      0.79      0.79       476\n",
            "\n",
            "No. of Decision Trees:  91\n",
            "[[192  46]\n",
            " [ 56 182]]\n",
            "              precision    recall  f1-score   support\n",
            "\n",
            "           0       0.77      0.81      0.79       238\n",
            "           1       0.80      0.76      0.78       238\n",
            "\n",
            "    accuracy                           0.79       476\n",
            "   macro avg       0.79      0.79      0.79       476\n",
            "weighted avg       0.79      0.79      0.79       476\n",
            "\n",
            "No. of Decision Trees:  92\n",
            "[[192  46]\n",
            " [ 56 182]]\n",
            "              precision    recall  f1-score   support\n",
            "\n",
            "           0       0.77      0.81      0.79       238\n",
            "           1       0.80      0.76      0.78       238\n",
            "\n",
            "    accuracy                           0.79       476\n",
            "   macro avg       0.79      0.79      0.79       476\n",
            "weighted avg       0.79      0.79      0.79       476\n",
            "\n",
            "No. of Decision Trees:  93\n",
            "[[193  45]\n",
            " [ 56 182]]\n",
            "              precision    recall  f1-score   support\n",
            "\n",
            "           0       0.78      0.81      0.79       238\n",
            "           1       0.80      0.76      0.78       238\n",
            "\n",
            "    accuracy                           0.79       476\n",
            "   macro avg       0.79      0.79      0.79       476\n",
            "weighted avg       0.79      0.79      0.79       476\n",
            "\n",
            "No. of Decision Trees:  94\n",
            "[[195  43]\n",
            " [ 56 182]]\n",
            "              precision    recall  f1-score   support\n",
            "\n",
            "           0       0.78      0.82      0.80       238\n",
            "           1       0.81      0.76      0.79       238\n",
            "\n",
            "    accuracy                           0.79       476\n",
            "   macro avg       0.79      0.79      0.79       476\n",
            "weighted avg       0.79      0.79      0.79       476\n",
            "\n",
            "No. of Decision Trees:  95\n",
            "[[196  42]\n",
            " [ 56 182]]\n",
            "              precision    recall  f1-score   support\n",
            "\n",
            "           0       0.78      0.82      0.80       238\n",
            "           1       0.81      0.76      0.79       238\n",
            "\n",
            "    accuracy                           0.79       476\n",
            "   macro avg       0.80      0.79      0.79       476\n",
            "weighted avg       0.80      0.79      0.79       476\n",
            "\n",
            "No. of Decision Trees:  96\n",
            "[[196  42]\n",
            " [ 56 182]]\n",
            "              precision    recall  f1-score   support\n",
            "\n",
            "           0       0.78      0.82      0.80       238\n",
            "           1       0.81      0.76      0.79       238\n",
            "\n",
            "    accuracy                           0.79       476\n",
            "   macro avg       0.80      0.79      0.79       476\n",
            "weighted avg       0.80      0.79      0.79       476\n",
            "\n",
            "No. of Decision Trees:  97\n",
            "[[196  42]\n",
            " [ 56 182]]\n",
            "              precision    recall  f1-score   support\n",
            "\n",
            "           0       0.78      0.82      0.80       238\n",
            "           1       0.81      0.76      0.79       238\n",
            "\n",
            "    accuracy                           0.79       476\n",
            "   macro avg       0.80      0.79      0.79       476\n",
            "weighted avg       0.80      0.79      0.79       476\n",
            "\n",
            "No. of Decision Trees:  98\n",
            "[[198  40]\n",
            " [ 56 182]]\n",
            "              precision    recall  f1-score   support\n",
            "\n",
            "           0       0.78      0.83      0.80       238\n",
            "           1       0.82      0.76      0.79       238\n",
            "\n",
            "    accuracy                           0.80       476\n",
            "   macro avg       0.80      0.80      0.80       476\n",
            "weighted avg       0.80      0.80      0.80       476\n",
            "\n",
            "No. of Decision Trees:  99\n",
            "[[197  41]\n",
            " [ 59 179]]\n",
            "              precision    recall  f1-score   support\n",
            "\n",
            "           0       0.77      0.83      0.80       238\n",
            "           1       0.81      0.75      0.78       238\n",
            "\n",
            "    accuracy                           0.79       476\n",
            "   macro avg       0.79      0.79      0.79       476\n",
            "weighted avg       0.79      0.79      0.79       476\n",
            "\n",
            "No. of Decision Trees:  100\n",
            "[[197  41]\n",
            " [ 59 179]]\n",
            "              precision    recall  f1-score   support\n",
            "\n",
            "           0       0.77      0.83      0.80       238\n",
            "           1       0.81      0.75      0.78       238\n",
            "\n",
            "    accuracy                           0.79       476\n",
            "   macro avg       0.79      0.79      0.79       476\n",
            "weighted avg       0.79      0.79      0.79       476\n",
            "\n"
          ]
        }
      ]
    },
    {
      "cell_type": "code",
      "source": [
        "gbc=GradientBoostingClassifier(random_state=1,n_estimators=51)\n",
        "\n",
        "gbc=create_model(gbc)"
      ],
      "metadata": {
        "colab": {
          "base_uri": "https://localhost:8080/"
        },
        "id": "a3wwBidA6ZAm",
        "outputId": "fa678e5f-210f-40c0-e411-6f9e6e91ae9a"
      },
      "id": "a3wwBidA6ZAm",
      "execution_count": 71,
      "outputs": [
        {
          "output_type": "stream",
          "name": "stdout",
          "text": [
            "[[191  47]\n",
            " [ 48 190]]\n",
            "              precision    recall  f1-score   support\n",
            "\n",
            "           0       0.80      0.80      0.80       238\n",
            "           1       0.80      0.80      0.80       238\n",
            "\n",
            "    accuracy                           0.80       476\n",
            "   macro avg       0.80      0.80      0.80       476\n",
            "weighted avg       0.80      0.80      0.80       476\n",
            "\n"
          ]
        }
      ]
    },
    {
      "cell_type": "code",
      "source": [
        "#gbc at 51:Recall : 0.80, f1 score = 80% and accuracy = 0.80"
      ],
      "metadata": {
        "id": "eWn-WceQ7KSy"
      },
      "id": "eWn-WceQ7KSy",
      "execution_count": 72,
      "outputs": []
    },
    {
      "cell_type": "code",
      "source": [
        "!pip install xgboost"
      ],
      "metadata": {
        "id": "zOeKLgZR7aXX",
        "colab": {
          "base_uri": "https://localhost:8080/"
        },
        "outputId": "0cee5ac2-a847-4c1e-f284-3305467fefb2"
      },
      "id": "zOeKLgZR7aXX",
      "execution_count": 73,
      "outputs": [
        {
          "output_type": "stream",
          "name": "stdout",
          "text": [
            "Requirement already satisfied: xgboost in /usr/local/lib/python3.10/dist-packages (2.0.3)\n",
            "Requirement already satisfied: numpy in /usr/local/lib/python3.10/dist-packages (from xgboost) (1.23.5)\n",
            "Requirement already satisfied: scipy in /usr/local/lib/python3.10/dist-packages (from xgboost) (1.11.4)\n"
          ]
        }
      ]
    },
    {
      "cell_type": "code",
      "source": [
        "from xgboost import XGBClassifier"
      ],
      "metadata": {
        "id": "my2SuP9JQxOa"
      },
      "id": "my2SuP9JQxOa",
      "execution_count": 74,
      "outputs": []
    },
    {
      "cell_type": "code",
      "source": [
        "for i in range(10,101):\n",
        "    xgb=XGBClassifier(random_state=1,n_estimators=i,reg_alpha=1)\n",
        "    print(\"No. of Decision Trees: \",i)\n",
        "    xgb=create_model(xgb)"
      ],
      "metadata": {
        "id": "mBotqnjkQ3f6",
        "colab": {
          "base_uri": "https://localhost:8080/"
        },
        "outputId": "eaf29ab5-c528-42ca-afb3-dea40e1057d1"
      },
      "id": "mBotqnjkQ3f6",
      "execution_count": 75,
      "outputs": [
        {
          "output_type": "stream",
          "name": "stdout",
          "text": [
            "No. of Decision Trees:  10\n",
            "[[195  43]\n",
            " [ 45 193]]\n",
            "              precision    recall  f1-score   support\n",
            "\n",
            "           0       0.81      0.82      0.82       238\n",
            "           1       0.82      0.81      0.81       238\n",
            "\n",
            "    accuracy                           0.82       476\n",
            "   macro avg       0.82      0.82      0.82       476\n",
            "weighted avg       0.82      0.82      0.82       476\n",
            "\n",
            "No. of Decision Trees:  11\n",
            "[[196  42]\n",
            " [ 50 188]]\n",
            "              precision    recall  f1-score   support\n",
            "\n",
            "           0       0.80      0.82      0.81       238\n",
            "           1       0.82      0.79      0.80       238\n",
            "\n",
            "    accuracy                           0.81       476\n",
            "   macro avg       0.81      0.81      0.81       476\n",
            "weighted avg       0.81      0.81      0.81       476\n",
            "\n",
            "No. of Decision Trees:  12\n",
            "[[200  38]\n",
            " [ 49 189]]\n",
            "              precision    recall  f1-score   support\n",
            "\n",
            "           0       0.80      0.84      0.82       238\n",
            "           1       0.83      0.79      0.81       238\n",
            "\n",
            "    accuracy                           0.82       476\n",
            "   macro avg       0.82      0.82      0.82       476\n",
            "weighted avg       0.82      0.82      0.82       476\n",
            "\n",
            "No. of Decision Trees:  13\n",
            "[[197  41]\n",
            " [ 52 186]]\n",
            "              precision    recall  f1-score   support\n",
            "\n",
            "           0       0.79      0.83      0.81       238\n",
            "           1       0.82      0.78      0.80       238\n",
            "\n",
            "    accuracy                           0.80       476\n",
            "   macro avg       0.81      0.80      0.80       476\n",
            "weighted avg       0.81      0.80      0.80       476\n",
            "\n",
            "No. of Decision Trees:  14\n",
            "[[200  38]\n",
            " [ 57 181]]\n",
            "              precision    recall  f1-score   support\n",
            "\n",
            "           0       0.78      0.84      0.81       238\n",
            "           1       0.83      0.76      0.79       238\n",
            "\n",
            "    accuracy                           0.80       476\n",
            "   macro avg       0.80      0.80      0.80       476\n",
            "weighted avg       0.80      0.80      0.80       476\n",
            "\n",
            "No. of Decision Trees:  15\n",
            "[[198  40]\n",
            " [ 56 182]]\n",
            "              precision    recall  f1-score   support\n",
            "\n",
            "           0       0.78      0.83      0.80       238\n",
            "           1       0.82      0.76      0.79       238\n",
            "\n",
            "    accuracy                           0.80       476\n",
            "   macro avg       0.80      0.80      0.80       476\n",
            "weighted avg       0.80      0.80      0.80       476\n",
            "\n",
            "No. of Decision Trees:  16\n",
            "[[198  40]\n",
            " [ 56 182]]\n",
            "              precision    recall  f1-score   support\n",
            "\n",
            "           0       0.78      0.83      0.80       238\n",
            "           1       0.82      0.76      0.79       238\n",
            "\n",
            "    accuracy                           0.80       476\n",
            "   macro avg       0.80      0.80      0.80       476\n",
            "weighted avg       0.80      0.80      0.80       476\n",
            "\n",
            "No. of Decision Trees:  17\n",
            "[[200  38]\n",
            " [ 63 175]]\n",
            "              precision    recall  f1-score   support\n",
            "\n",
            "           0       0.76      0.84      0.80       238\n",
            "           1       0.82      0.74      0.78       238\n",
            "\n",
            "    accuracy                           0.79       476\n",
            "   macro avg       0.79      0.79      0.79       476\n",
            "weighted avg       0.79      0.79      0.79       476\n",
            "\n",
            "No. of Decision Trees:  18\n",
            "[[201  37]\n",
            " [ 62 176]]\n",
            "              precision    recall  f1-score   support\n",
            "\n",
            "           0       0.76      0.84      0.80       238\n",
            "           1       0.83      0.74      0.78       238\n",
            "\n",
            "    accuracy                           0.79       476\n",
            "   macro avg       0.80      0.79      0.79       476\n",
            "weighted avg       0.80      0.79      0.79       476\n",
            "\n",
            "No. of Decision Trees:  19\n",
            "[[201  37]\n",
            " [ 58 180]]\n",
            "              precision    recall  f1-score   support\n",
            "\n",
            "           0       0.78      0.84      0.81       238\n",
            "           1       0.83      0.76      0.79       238\n",
            "\n",
            "    accuracy                           0.80       476\n",
            "   macro avg       0.80      0.80      0.80       476\n",
            "weighted avg       0.80      0.80      0.80       476\n",
            "\n",
            "No. of Decision Trees:  20\n",
            "[[202  36]\n",
            " [ 61 177]]\n",
            "              precision    recall  f1-score   support\n",
            "\n",
            "           0       0.77      0.85      0.81       238\n",
            "           1       0.83      0.74      0.78       238\n",
            "\n",
            "    accuracy                           0.80       476\n",
            "   macro avg       0.80      0.80      0.80       476\n",
            "weighted avg       0.80      0.80      0.80       476\n",
            "\n",
            "No. of Decision Trees:  21\n",
            "[[205  33]\n",
            " [ 61 177]]\n",
            "              precision    recall  f1-score   support\n",
            "\n",
            "           0       0.77      0.86      0.81       238\n",
            "           1       0.84      0.74      0.79       238\n",
            "\n",
            "    accuracy                           0.80       476\n",
            "   macro avg       0.81      0.80      0.80       476\n",
            "weighted avg       0.81      0.80      0.80       476\n",
            "\n",
            "No. of Decision Trees:  22\n",
            "[[203  35]\n",
            " [ 60 178]]\n",
            "              precision    recall  f1-score   support\n",
            "\n",
            "           0       0.77      0.85      0.81       238\n",
            "           1       0.84      0.75      0.79       238\n",
            "\n",
            "    accuracy                           0.80       476\n",
            "   macro avg       0.80      0.80      0.80       476\n",
            "weighted avg       0.80      0.80      0.80       476\n",
            "\n",
            "No. of Decision Trees:  23\n",
            "[[202  36]\n",
            " [ 63 175]]\n",
            "              precision    recall  f1-score   support\n",
            "\n",
            "           0       0.76      0.85      0.80       238\n",
            "           1       0.83      0.74      0.78       238\n",
            "\n",
            "    accuracy                           0.79       476\n",
            "   macro avg       0.80      0.79      0.79       476\n",
            "weighted avg       0.80      0.79      0.79       476\n",
            "\n",
            "No. of Decision Trees:  24\n",
            "[[203  35]\n",
            " [ 63 175]]\n",
            "              precision    recall  f1-score   support\n",
            "\n",
            "           0       0.76      0.85      0.81       238\n",
            "           1       0.83      0.74      0.78       238\n",
            "\n",
            "    accuracy                           0.79       476\n",
            "   macro avg       0.80      0.79      0.79       476\n",
            "weighted avg       0.80      0.79      0.79       476\n",
            "\n",
            "No. of Decision Trees:  25\n",
            "[[203  35]\n",
            " [ 73 165]]\n",
            "              precision    recall  f1-score   support\n",
            "\n",
            "           0       0.74      0.85      0.79       238\n",
            "           1       0.82      0.69      0.75       238\n",
            "\n",
            "    accuracy                           0.77       476\n",
            "   macro avg       0.78      0.77      0.77       476\n",
            "weighted avg       0.78      0.77      0.77       476\n",
            "\n",
            "No. of Decision Trees:  26\n",
            "[[205  33]\n",
            " [ 72 166]]\n",
            "              precision    recall  f1-score   support\n",
            "\n",
            "           0       0.74      0.86      0.80       238\n",
            "           1       0.83      0.70      0.76       238\n",
            "\n",
            "    accuracy                           0.78       476\n",
            "   macro avg       0.79      0.78      0.78       476\n",
            "weighted avg       0.79      0.78      0.78       476\n",
            "\n",
            "No. of Decision Trees:  27\n",
            "[[205  33]\n",
            " [ 72 166]]\n",
            "              precision    recall  f1-score   support\n",
            "\n",
            "           0       0.74      0.86      0.80       238\n",
            "           1       0.83      0.70      0.76       238\n",
            "\n",
            "    accuracy                           0.78       476\n",
            "   macro avg       0.79      0.78      0.78       476\n",
            "weighted avg       0.79      0.78      0.78       476\n",
            "\n",
            "No. of Decision Trees:  28\n",
            "[[204  34]\n",
            " [ 76 162]]\n",
            "              precision    recall  f1-score   support\n",
            "\n",
            "           0       0.73      0.86      0.79       238\n",
            "           1       0.83      0.68      0.75       238\n",
            "\n",
            "    accuracy                           0.77       476\n",
            "   macro avg       0.78      0.77      0.77       476\n",
            "weighted avg       0.78      0.77      0.77       476\n",
            "\n",
            "No. of Decision Trees:  29\n",
            "[[204  34]\n",
            " [ 76 162]]\n",
            "              precision    recall  f1-score   support\n",
            "\n",
            "           0       0.73      0.86      0.79       238\n",
            "           1       0.83      0.68      0.75       238\n",
            "\n",
            "    accuracy                           0.77       476\n",
            "   macro avg       0.78      0.77      0.77       476\n",
            "weighted avg       0.78      0.77      0.77       476\n",
            "\n",
            "No. of Decision Trees:  30\n",
            "[[206  32]\n",
            " [ 71 167]]\n",
            "              precision    recall  f1-score   support\n",
            "\n",
            "           0       0.74      0.87      0.80       238\n",
            "           1       0.84      0.70      0.76       238\n",
            "\n",
            "    accuracy                           0.78       476\n",
            "   macro avg       0.79      0.78      0.78       476\n",
            "weighted avg       0.79      0.78      0.78       476\n",
            "\n",
            "No. of Decision Trees:  31\n",
            "[[206  32]\n",
            " [ 71 167]]\n",
            "              precision    recall  f1-score   support\n",
            "\n",
            "           0       0.74      0.87      0.80       238\n",
            "           1       0.84      0.70      0.76       238\n",
            "\n",
            "    accuracy                           0.78       476\n",
            "   macro avg       0.79      0.78      0.78       476\n",
            "weighted avg       0.79      0.78      0.78       476\n",
            "\n",
            "No. of Decision Trees:  32\n",
            "[[206  32]\n",
            " [ 75 163]]\n",
            "              precision    recall  f1-score   support\n",
            "\n",
            "           0       0.73      0.87      0.79       238\n",
            "           1       0.84      0.68      0.75       238\n",
            "\n",
            "    accuracy                           0.78       476\n",
            "   macro avg       0.78      0.78      0.77       476\n",
            "weighted avg       0.78      0.78      0.77       476\n",
            "\n",
            "No. of Decision Trees:  33\n",
            "[[204  34]\n",
            " [ 71 167]]\n",
            "              precision    recall  f1-score   support\n",
            "\n",
            "           0       0.74      0.86      0.80       238\n",
            "           1       0.83      0.70      0.76       238\n",
            "\n",
            "    accuracy                           0.78       476\n",
            "   macro avg       0.79      0.78      0.78       476\n",
            "weighted avg       0.79      0.78      0.78       476\n",
            "\n",
            "No. of Decision Trees:  34\n",
            "[[204  34]\n",
            " [ 75 163]]\n",
            "              precision    recall  f1-score   support\n",
            "\n",
            "           0       0.73      0.86      0.79       238\n",
            "           1       0.83      0.68      0.75       238\n",
            "\n",
            "    accuracy                           0.77       476\n",
            "   macro avg       0.78      0.77      0.77       476\n",
            "weighted avg       0.78      0.77      0.77       476\n",
            "\n",
            "No. of Decision Trees:  35\n",
            "[[205  33]\n",
            " [ 75 163]]\n",
            "              precision    recall  f1-score   support\n",
            "\n",
            "           0       0.73      0.86      0.79       238\n",
            "           1       0.83      0.68      0.75       238\n",
            "\n",
            "    accuracy                           0.77       476\n",
            "   macro avg       0.78      0.77      0.77       476\n",
            "weighted avg       0.78      0.77      0.77       476\n",
            "\n",
            "No. of Decision Trees:  36\n",
            "[[206  32]\n",
            " [ 75 163]]\n",
            "              precision    recall  f1-score   support\n",
            "\n",
            "           0       0.73      0.87      0.79       238\n",
            "           1       0.84      0.68      0.75       238\n",
            "\n",
            "    accuracy                           0.78       476\n",
            "   macro avg       0.78      0.78      0.77       476\n",
            "weighted avg       0.78      0.78      0.77       476\n",
            "\n",
            "No. of Decision Trees:  37\n",
            "[[206  32]\n",
            " [ 75 163]]\n",
            "              precision    recall  f1-score   support\n",
            "\n",
            "           0       0.73      0.87      0.79       238\n",
            "           1       0.84      0.68      0.75       238\n",
            "\n",
            "    accuracy                           0.78       476\n",
            "   macro avg       0.78      0.78      0.77       476\n",
            "weighted avg       0.78      0.78      0.77       476\n",
            "\n",
            "No. of Decision Trees:  38\n",
            "[[208  30]\n",
            " [ 75 163]]\n",
            "              precision    recall  f1-score   support\n",
            "\n",
            "           0       0.73      0.87      0.80       238\n",
            "           1       0.84      0.68      0.76       238\n",
            "\n",
            "    accuracy                           0.78       476\n",
            "   macro avg       0.79      0.78      0.78       476\n",
            "weighted avg       0.79      0.78      0.78       476\n",
            "\n",
            "No. of Decision Trees:  39\n",
            "[[207  31]\n",
            " [ 75 163]]\n",
            "              precision    recall  f1-score   support\n",
            "\n",
            "           0       0.73      0.87      0.80       238\n",
            "           1       0.84      0.68      0.75       238\n",
            "\n",
            "    accuracy                           0.78       476\n",
            "   macro avg       0.79      0.78      0.78       476\n",
            "weighted avg       0.79      0.78      0.78       476\n",
            "\n",
            "No. of Decision Trees:  40\n",
            "[[206  32]\n",
            " [ 75 163]]\n",
            "              precision    recall  f1-score   support\n",
            "\n",
            "           0       0.73      0.87      0.79       238\n",
            "           1       0.84      0.68      0.75       238\n",
            "\n",
            "    accuracy                           0.78       476\n",
            "   macro avg       0.78      0.78      0.77       476\n",
            "weighted avg       0.78      0.78      0.77       476\n",
            "\n",
            "No. of Decision Trees:  41\n",
            "[[206  32]\n",
            " [ 71 167]]\n",
            "              precision    recall  f1-score   support\n",
            "\n",
            "           0       0.74      0.87      0.80       238\n",
            "           1       0.84      0.70      0.76       238\n",
            "\n",
            "    accuracy                           0.78       476\n",
            "   macro avg       0.79      0.78      0.78       476\n",
            "weighted avg       0.79      0.78      0.78       476\n",
            "\n",
            "No. of Decision Trees:  42\n",
            "[[206  32]\n",
            " [ 71 167]]\n",
            "              precision    recall  f1-score   support\n",
            "\n",
            "           0       0.74      0.87      0.80       238\n",
            "           1       0.84      0.70      0.76       238\n",
            "\n",
            "    accuracy                           0.78       476\n",
            "   macro avg       0.79      0.78      0.78       476\n",
            "weighted avg       0.79      0.78      0.78       476\n",
            "\n",
            "No. of Decision Trees:  43\n",
            "[[206  32]\n",
            " [ 71 167]]\n",
            "              precision    recall  f1-score   support\n",
            "\n",
            "           0       0.74      0.87      0.80       238\n",
            "           1       0.84      0.70      0.76       238\n",
            "\n",
            "    accuracy                           0.78       476\n",
            "   macro avg       0.79      0.78      0.78       476\n",
            "weighted avg       0.79      0.78      0.78       476\n",
            "\n",
            "No. of Decision Trees:  44\n",
            "[[207  31]\n",
            " [ 71 167]]\n",
            "              precision    recall  f1-score   support\n",
            "\n",
            "           0       0.74      0.87      0.80       238\n",
            "           1       0.84      0.70      0.77       238\n",
            "\n",
            "    accuracy                           0.79       476\n",
            "   macro avg       0.79      0.79      0.78       476\n",
            "weighted avg       0.79      0.79      0.78       476\n",
            "\n",
            "No. of Decision Trees:  45\n",
            "[[208  30]\n",
            " [ 71 167]]\n",
            "              precision    recall  f1-score   support\n",
            "\n",
            "           0       0.75      0.87      0.80       238\n",
            "           1       0.85      0.70      0.77       238\n",
            "\n",
            "    accuracy                           0.79       476\n",
            "   macro avg       0.80      0.79      0.79       476\n",
            "weighted avg       0.80      0.79      0.79       476\n",
            "\n",
            "No. of Decision Trees:  46\n",
            "[[207  31]\n",
            " [ 71 167]]\n",
            "              precision    recall  f1-score   support\n",
            "\n",
            "           0       0.74      0.87      0.80       238\n",
            "           1       0.84      0.70      0.77       238\n",
            "\n",
            "    accuracy                           0.79       476\n",
            "   macro avg       0.79      0.79      0.78       476\n",
            "weighted avg       0.79      0.79      0.78       476\n",
            "\n",
            "No. of Decision Trees:  47\n",
            "[[207  31]\n",
            " [ 71 167]]\n",
            "              precision    recall  f1-score   support\n",
            "\n",
            "           0       0.74      0.87      0.80       238\n",
            "           1       0.84      0.70      0.77       238\n",
            "\n",
            "    accuracy                           0.79       476\n",
            "   macro avg       0.79      0.79      0.78       476\n",
            "weighted avg       0.79      0.79      0.78       476\n",
            "\n",
            "No. of Decision Trees:  48\n",
            "[[207  31]\n",
            " [ 71 167]]\n",
            "              precision    recall  f1-score   support\n",
            "\n",
            "           0       0.74      0.87      0.80       238\n",
            "           1       0.84      0.70      0.77       238\n",
            "\n",
            "    accuracy                           0.79       476\n",
            "   macro avg       0.79      0.79      0.78       476\n",
            "weighted avg       0.79      0.79      0.78       476\n",
            "\n",
            "No. of Decision Trees:  49\n",
            "[[207  31]\n",
            " [ 71 167]]\n",
            "              precision    recall  f1-score   support\n",
            "\n",
            "           0       0.74      0.87      0.80       238\n",
            "           1       0.84      0.70      0.77       238\n",
            "\n",
            "    accuracy                           0.79       476\n",
            "   macro avg       0.79      0.79      0.78       476\n",
            "weighted avg       0.79      0.79      0.78       476\n",
            "\n",
            "No. of Decision Trees:  50\n",
            "[[206  32]\n",
            " [ 74 164]]\n",
            "              precision    recall  f1-score   support\n",
            "\n",
            "           0       0.74      0.87      0.80       238\n",
            "           1       0.84      0.69      0.76       238\n",
            "\n",
            "    accuracy                           0.78       476\n",
            "   macro avg       0.79      0.78      0.78       476\n",
            "weighted avg       0.79      0.78      0.78       476\n",
            "\n",
            "No. of Decision Trees:  51\n",
            "[[207  31]\n",
            " [ 74 164]]\n",
            "              precision    recall  f1-score   support\n",
            "\n",
            "           0       0.74      0.87      0.80       238\n",
            "           1       0.84      0.69      0.76       238\n",
            "\n",
            "    accuracy                           0.78       476\n",
            "   macro avg       0.79      0.78      0.78       476\n",
            "weighted avg       0.79      0.78      0.78       476\n",
            "\n",
            "No. of Decision Trees:  52\n",
            "[[208  30]\n",
            " [ 71 167]]\n",
            "              precision    recall  f1-score   support\n",
            "\n",
            "           0       0.75      0.87      0.80       238\n",
            "           1       0.85      0.70      0.77       238\n",
            "\n",
            "    accuracy                           0.79       476\n",
            "   macro avg       0.80      0.79      0.79       476\n",
            "weighted avg       0.80      0.79      0.79       476\n",
            "\n",
            "No. of Decision Trees:  53\n",
            "[[209  29]\n",
            " [ 71 167]]\n",
            "              precision    recall  f1-score   support\n",
            "\n",
            "           0       0.75      0.88      0.81       238\n",
            "           1       0.85      0.70      0.77       238\n",
            "\n",
            "    accuracy                           0.79       476\n",
            "   macro avg       0.80      0.79      0.79       476\n",
            "weighted avg       0.80      0.79      0.79       476\n",
            "\n",
            "No. of Decision Trees:  54\n",
            "[[209  29]\n",
            " [ 74 164]]\n",
            "              precision    recall  f1-score   support\n",
            "\n",
            "           0       0.74      0.88      0.80       238\n",
            "           1       0.85      0.69      0.76       238\n",
            "\n",
            "    accuracy                           0.78       476\n",
            "   macro avg       0.79      0.78      0.78       476\n",
            "weighted avg       0.79      0.78      0.78       476\n",
            "\n",
            "No. of Decision Trees:  55\n",
            "[[209  29]\n",
            " [ 74 164]]\n",
            "              precision    recall  f1-score   support\n",
            "\n",
            "           0       0.74      0.88      0.80       238\n",
            "           1       0.85      0.69      0.76       238\n",
            "\n",
            "    accuracy                           0.78       476\n",
            "   macro avg       0.79      0.78      0.78       476\n",
            "weighted avg       0.79      0.78      0.78       476\n",
            "\n",
            "No. of Decision Trees:  56\n",
            "[[209  29]\n",
            " [ 74 164]]\n",
            "              precision    recall  f1-score   support\n",
            "\n",
            "           0       0.74      0.88      0.80       238\n",
            "           1       0.85      0.69      0.76       238\n",
            "\n",
            "    accuracy                           0.78       476\n",
            "   macro avg       0.79      0.78      0.78       476\n",
            "weighted avg       0.79      0.78      0.78       476\n",
            "\n",
            "No. of Decision Trees:  57\n",
            "[[210  28]\n",
            " [ 74 164]]\n",
            "              precision    recall  f1-score   support\n",
            "\n",
            "           0       0.74      0.88      0.80       238\n",
            "           1       0.85      0.69      0.76       238\n",
            "\n",
            "    accuracy                           0.79       476\n",
            "   macro avg       0.80      0.79      0.78       476\n",
            "weighted avg       0.80      0.79      0.78       476\n",
            "\n",
            "No. of Decision Trees:  58\n",
            "[[209  29]\n",
            " [ 74 164]]\n",
            "              precision    recall  f1-score   support\n",
            "\n",
            "           0       0.74      0.88      0.80       238\n",
            "           1       0.85      0.69      0.76       238\n",
            "\n",
            "    accuracy                           0.78       476\n",
            "   macro avg       0.79      0.78      0.78       476\n",
            "weighted avg       0.79      0.78      0.78       476\n",
            "\n",
            "No. of Decision Trees:  59\n",
            "[[209  29]\n",
            " [ 74 164]]\n",
            "              precision    recall  f1-score   support\n",
            "\n",
            "           0       0.74      0.88      0.80       238\n",
            "           1       0.85      0.69      0.76       238\n",
            "\n",
            "    accuracy                           0.78       476\n",
            "   macro avg       0.79      0.78      0.78       476\n",
            "weighted avg       0.79      0.78      0.78       476\n",
            "\n",
            "No. of Decision Trees:  60\n",
            "[[210  28]\n",
            " [ 74 164]]\n",
            "              precision    recall  f1-score   support\n",
            "\n",
            "           0       0.74      0.88      0.80       238\n",
            "           1       0.85      0.69      0.76       238\n",
            "\n",
            "    accuracy                           0.79       476\n",
            "   macro avg       0.80      0.79      0.78       476\n",
            "weighted avg       0.80      0.79      0.78       476\n",
            "\n",
            "No. of Decision Trees:  61\n",
            "[[212  26]\n",
            " [ 74 164]]\n",
            "              precision    recall  f1-score   support\n",
            "\n",
            "           0       0.74      0.89      0.81       238\n",
            "           1       0.86      0.69      0.77       238\n",
            "\n",
            "    accuracy                           0.79       476\n",
            "   macro avg       0.80      0.79      0.79       476\n",
            "weighted avg       0.80      0.79      0.79       476\n",
            "\n",
            "No. of Decision Trees:  62\n",
            "[[211  27]\n",
            " [ 74 164]]\n",
            "              precision    recall  f1-score   support\n",
            "\n",
            "           0       0.74      0.89      0.81       238\n",
            "           1       0.86      0.69      0.76       238\n",
            "\n",
            "    accuracy                           0.79       476\n",
            "   macro avg       0.80      0.79      0.79       476\n",
            "weighted avg       0.80      0.79      0.79       476\n",
            "\n",
            "No. of Decision Trees:  63\n",
            "[[211  27]\n",
            " [ 74 164]]\n",
            "              precision    recall  f1-score   support\n",
            "\n",
            "           0       0.74      0.89      0.81       238\n",
            "           1       0.86      0.69      0.76       238\n",
            "\n",
            "    accuracy                           0.79       476\n",
            "   macro avg       0.80      0.79      0.79       476\n",
            "weighted avg       0.80      0.79      0.79       476\n",
            "\n",
            "No. of Decision Trees:  64\n",
            "[[211  27]\n",
            " [ 74 164]]\n",
            "              precision    recall  f1-score   support\n",
            "\n",
            "           0       0.74      0.89      0.81       238\n",
            "           1       0.86      0.69      0.76       238\n",
            "\n",
            "    accuracy                           0.79       476\n",
            "   macro avg       0.80      0.79      0.79       476\n",
            "weighted avg       0.80      0.79      0.79       476\n",
            "\n",
            "No. of Decision Trees:  65\n",
            "[[211  27]\n",
            " [ 74 164]]\n",
            "              precision    recall  f1-score   support\n",
            "\n",
            "           0       0.74      0.89      0.81       238\n",
            "           1       0.86      0.69      0.76       238\n",
            "\n",
            "    accuracy                           0.79       476\n",
            "   macro avg       0.80      0.79      0.79       476\n",
            "weighted avg       0.80      0.79      0.79       476\n",
            "\n",
            "No. of Decision Trees:  66\n",
            "[[211  27]\n",
            " [ 74 164]]\n",
            "              precision    recall  f1-score   support\n",
            "\n",
            "           0       0.74      0.89      0.81       238\n",
            "           1       0.86      0.69      0.76       238\n",
            "\n",
            "    accuracy                           0.79       476\n",
            "   macro avg       0.80      0.79      0.79       476\n",
            "weighted avg       0.80      0.79      0.79       476\n",
            "\n",
            "No. of Decision Trees:  67\n",
            "[[211  27]\n",
            " [ 74 164]]\n",
            "              precision    recall  f1-score   support\n",
            "\n",
            "           0       0.74      0.89      0.81       238\n",
            "           1       0.86      0.69      0.76       238\n",
            "\n",
            "    accuracy                           0.79       476\n",
            "   macro avg       0.80      0.79      0.79       476\n",
            "weighted avg       0.80      0.79      0.79       476\n",
            "\n",
            "No. of Decision Trees:  68\n",
            "[[211  27]\n",
            " [ 74 164]]\n",
            "              precision    recall  f1-score   support\n",
            "\n",
            "           0       0.74      0.89      0.81       238\n",
            "           1       0.86      0.69      0.76       238\n",
            "\n",
            "    accuracy                           0.79       476\n",
            "   macro avg       0.80      0.79      0.79       476\n",
            "weighted avg       0.80      0.79      0.79       476\n",
            "\n",
            "No. of Decision Trees:  69\n",
            "[[211  27]\n",
            " [ 74 164]]\n",
            "              precision    recall  f1-score   support\n",
            "\n",
            "           0       0.74      0.89      0.81       238\n",
            "           1       0.86      0.69      0.76       238\n",
            "\n",
            "    accuracy                           0.79       476\n",
            "   macro avg       0.80      0.79      0.79       476\n",
            "weighted avg       0.80      0.79      0.79       476\n",
            "\n",
            "No. of Decision Trees:  70\n",
            "[[213  25]\n",
            " [ 74 164]]\n",
            "              precision    recall  f1-score   support\n",
            "\n",
            "           0       0.74      0.89      0.81       238\n",
            "           1       0.87      0.69      0.77       238\n",
            "\n",
            "    accuracy                           0.79       476\n",
            "   macro avg       0.80      0.79      0.79       476\n",
            "weighted avg       0.80      0.79      0.79       476\n",
            "\n",
            "No. of Decision Trees:  71\n",
            "[[212  26]\n",
            " [ 74 164]]\n",
            "              precision    recall  f1-score   support\n",
            "\n",
            "           0       0.74      0.89      0.81       238\n",
            "           1       0.86      0.69      0.77       238\n",
            "\n",
            "    accuracy                           0.79       476\n",
            "   macro avg       0.80      0.79      0.79       476\n",
            "weighted avg       0.80      0.79      0.79       476\n",
            "\n",
            "No. of Decision Trees:  72\n",
            "[[212  26]\n",
            " [ 74 164]]\n",
            "              precision    recall  f1-score   support\n",
            "\n",
            "           0       0.74      0.89      0.81       238\n",
            "           1       0.86      0.69      0.77       238\n",
            "\n",
            "    accuracy                           0.79       476\n",
            "   macro avg       0.80      0.79      0.79       476\n",
            "weighted avg       0.80      0.79      0.79       476\n",
            "\n",
            "No. of Decision Trees:  73\n",
            "[[212  26]\n",
            " [ 74 164]]\n",
            "              precision    recall  f1-score   support\n",
            "\n",
            "           0       0.74      0.89      0.81       238\n",
            "           1       0.86      0.69      0.77       238\n",
            "\n",
            "    accuracy                           0.79       476\n",
            "   macro avg       0.80      0.79      0.79       476\n",
            "weighted avg       0.80      0.79      0.79       476\n",
            "\n",
            "No. of Decision Trees:  74\n",
            "[[212  26]\n",
            " [ 74 164]]\n",
            "              precision    recall  f1-score   support\n",
            "\n",
            "           0       0.74      0.89      0.81       238\n",
            "           1       0.86      0.69      0.77       238\n",
            "\n",
            "    accuracy                           0.79       476\n",
            "   macro avg       0.80      0.79      0.79       476\n",
            "weighted avg       0.80      0.79      0.79       476\n",
            "\n",
            "No. of Decision Trees:  75\n",
            "[[212  26]\n",
            " [ 74 164]]\n",
            "              precision    recall  f1-score   support\n",
            "\n",
            "           0       0.74      0.89      0.81       238\n",
            "           1       0.86      0.69      0.77       238\n",
            "\n",
            "    accuracy                           0.79       476\n",
            "   macro avg       0.80      0.79      0.79       476\n",
            "weighted avg       0.80      0.79      0.79       476\n",
            "\n",
            "No. of Decision Trees:  76\n",
            "[[212  26]\n",
            " [ 74 164]]\n",
            "              precision    recall  f1-score   support\n",
            "\n",
            "           0       0.74      0.89      0.81       238\n",
            "           1       0.86      0.69      0.77       238\n",
            "\n",
            "    accuracy                           0.79       476\n",
            "   macro avg       0.80      0.79      0.79       476\n",
            "weighted avg       0.80      0.79      0.79       476\n",
            "\n",
            "No. of Decision Trees:  77\n",
            "[[212  26]\n",
            " [ 74 164]]\n",
            "              precision    recall  f1-score   support\n",
            "\n",
            "           0       0.74      0.89      0.81       238\n",
            "           1       0.86      0.69      0.77       238\n",
            "\n",
            "    accuracy                           0.79       476\n",
            "   macro avg       0.80      0.79      0.79       476\n",
            "weighted avg       0.80      0.79      0.79       476\n",
            "\n",
            "No. of Decision Trees:  78\n",
            "[[212  26]\n",
            " [ 74 164]]\n",
            "              precision    recall  f1-score   support\n",
            "\n",
            "           0       0.74      0.89      0.81       238\n",
            "           1       0.86      0.69      0.77       238\n",
            "\n",
            "    accuracy                           0.79       476\n",
            "   macro avg       0.80      0.79      0.79       476\n",
            "weighted avg       0.80      0.79      0.79       476\n",
            "\n",
            "No. of Decision Trees:  79\n",
            "[[212  26]\n",
            " [ 74 164]]\n",
            "              precision    recall  f1-score   support\n",
            "\n",
            "           0       0.74      0.89      0.81       238\n",
            "           1       0.86      0.69      0.77       238\n",
            "\n",
            "    accuracy                           0.79       476\n",
            "   macro avg       0.80      0.79      0.79       476\n",
            "weighted avg       0.80      0.79      0.79       476\n",
            "\n",
            "No. of Decision Trees:  80\n",
            "[[210  28]\n",
            " [ 74 164]]\n",
            "              precision    recall  f1-score   support\n",
            "\n",
            "           0       0.74      0.88      0.80       238\n",
            "           1       0.85      0.69      0.76       238\n",
            "\n",
            "    accuracy                           0.79       476\n",
            "   macro avg       0.80      0.79      0.78       476\n",
            "weighted avg       0.80      0.79      0.78       476\n",
            "\n",
            "No. of Decision Trees:  81\n",
            "[[210  28]\n",
            " [ 74 164]]\n",
            "              precision    recall  f1-score   support\n",
            "\n",
            "           0       0.74      0.88      0.80       238\n",
            "           1       0.85      0.69      0.76       238\n",
            "\n",
            "    accuracy                           0.79       476\n",
            "   macro avg       0.80      0.79      0.78       476\n",
            "weighted avg       0.80      0.79      0.78       476\n",
            "\n",
            "No. of Decision Trees:  82\n",
            "[[211  27]\n",
            " [ 74 164]]\n",
            "              precision    recall  f1-score   support\n",
            "\n",
            "           0       0.74      0.89      0.81       238\n",
            "           1       0.86      0.69      0.76       238\n",
            "\n",
            "    accuracy                           0.79       476\n",
            "   macro avg       0.80      0.79      0.79       476\n",
            "weighted avg       0.80      0.79      0.79       476\n",
            "\n",
            "No. of Decision Trees:  83\n",
            "[[211  27]\n",
            " [ 74 164]]\n",
            "              precision    recall  f1-score   support\n",
            "\n",
            "           0       0.74      0.89      0.81       238\n",
            "           1       0.86      0.69      0.76       238\n",
            "\n",
            "    accuracy                           0.79       476\n",
            "   macro avg       0.80      0.79      0.79       476\n",
            "weighted avg       0.80      0.79      0.79       476\n",
            "\n",
            "No. of Decision Trees:  84\n",
            "[[212  26]\n",
            " [ 74 164]]\n",
            "              precision    recall  f1-score   support\n",
            "\n",
            "           0       0.74      0.89      0.81       238\n",
            "           1       0.86      0.69      0.77       238\n",
            "\n",
            "    accuracy                           0.79       476\n",
            "   macro avg       0.80      0.79      0.79       476\n",
            "weighted avg       0.80      0.79      0.79       476\n",
            "\n",
            "No. of Decision Trees:  85\n",
            "[[213  25]\n",
            " [ 74 164]]\n",
            "              precision    recall  f1-score   support\n",
            "\n",
            "           0       0.74      0.89      0.81       238\n",
            "           1       0.87      0.69      0.77       238\n",
            "\n",
            "    accuracy                           0.79       476\n",
            "   macro avg       0.80      0.79      0.79       476\n",
            "weighted avg       0.80      0.79      0.79       476\n",
            "\n",
            "No. of Decision Trees:  86\n",
            "[[213  25]\n",
            " [ 74 164]]\n",
            "              precision    recall  f1-score   support\n",
            "\n",
            "           0       0.74      0.89      0.81       238\n",
            "           1       0.87      0.69      0.77       238\n",
            "\n",
            "    accuracy                           0.79       476\n",
            "   macro avg       0.80      0.79      0.79       476\n",
            "weighted avg       0.80      0.79      0.79       476\n",
            "\n",
            "No. of Decision Trees:  87\n",
            "[[213  25]\n",
            " [ 74 164]]\n",
            "              precision    recall  f1-score   support\n",
            "\n",
            "           0       0.74      0.89      0.81       238\n",
            "           1       0.87      0.69      0.77       238\n",
            "\n",
            "    accuracy                           0.79       476\n",
            "   macro avg       0.80      0.79      0.79       476\n",
            "weighted avg       0.80      0.79      0.79       476\n",
            "\n",
            "No. of Decision Trees:  88\n",
            "[[213  25]\n",
            " [ 74 164]]\n",
            "              precision    recall  f1-score   support\n",
            "\n",
            "           0       0.74      0.89      0.81       238\n",
            "           1       0.87      0.69      0.77       238\n",
            "\n",
            "    accuracy                           0.79       476\n",
            "   macro avg       0.80      0.79      0.79       476\n",
            "weighted avg       0.80      0.79      0.79       476\n",
            "\n",
            "No. of Decision Trees:  89\n",
            "[[213  25]\n",
            " [ 74 164]]\n",
            "              precision    recall  f1-score   support\n",
            "\n",
            "           0       0.74      0.89      0.81       238\n",
            "           1       0.87      0.69      0.77       238\n",
            "\n",
            "    accuracy                           0.79       476\n",
            "   macro avg       0.80      0.79      0.79       476\n",
            "weighted avg       0.80      0.79      0.79       476\n",
            "\n",
            "No. of Decision Trees:  90\n",
            "[[213  25]\n",
            " [ 74 164]]\n",
            "              precision    recall  f1-score   support\n",
            "\n",
            "           0       0.74      0.89      0.81       238\n",
            "           1       0.87      0.69      0.77       238\n",
            "\n",
            "    accuracy                           0.79       476\n",
            "   macro avg       0.80      0.79      0.79       476\n",
            "weighted avg       0.80      0.79      0.79       476\n",
            "\n",
            "No. of Decision Trees:  91\n",
            "[[213  25]\n",
            " [ 74 164]]\n",
            "              precision    recall  f1-score   support\n",
            "\n",
            "           0       0.74      0.89      0.81       238\n",
            "           1       0.87      0.69      0.77       238\n",
            "\n",
            "    accuracy                           0.79       476\n",
            "   macro avg       0.80      0.79      0.79       476\n",
            "weighted avg       0.80      0.79      0.79       476\n",
            "\n",
            "No. of Decision Trees:  92\n",
            "[[213  25]\n",
            " [ 74 164]]\n",
            "              precision    recall  f1-score   support\n",
            "\n",
            "           0       0.74      0.89      0.81       238\n",
            "           1       0.87      0.69      0.77       238\n",
            "\n",
            "    accuracy                           0.79       476\n",
            "   macro avg       0.80      0.79      0.79       476\n",
            "weighted avg       0.80      0.79      0.79       476\n",
            "\n",
            "No. of Decision Trees:  93\n",
            "[[213  25]\n",
            " [ 74 164]]\n",
            "              precision    recall  f1-score   support\n",
            "\n",
            "           0       0.74      0.89      0.81       238\n",
            "           1       0.87      0.69      0.77       238\n",
            "\n",
            "    accuracy                           0.79       476\n",
            "   macro avg       0.80      0.79      0.79       476\n",
            "weighted avg       0.80      0.79      0.79       476\n",
            "\n",
            "No. of Decision Trees:  94\n",
            "[[213  25]\n",
            " [ 74 164]]\n",
            "              precision    recall  f1-score   support\n",
            "\n",
            "           0       0.74      0.89      0.81       238\n",
            "           1       0.87      0.69      0.77       238\n",
            "\n",
            "    accuracy                           0.79       476\n",
            "   macro avg       0.80      0.79      0.79       476\n",
            "weighted avg       0.80      0.79      0.79       476\n",
            "\n",
            "No. of Decision Trees:  95\n",
            "[[213  25]\n",
            " [ 74 164]]\n",
            "              precision    recall  f1-score   support\n",
            "\n",
            "           0       0.74      0.89      0.81       238\n",
            "           1       0.87      0.69      0.77       238\n",
            "\n",
            "    accuracy                           0.79       476\n",
            "   macro avg       0.80      0.79      0.79       476\n",
            "weighted avg       0.80      0.79      0.79       476\n",
            "\n",
            "No. of Decision Trees:  96\n",
            "[[213  25]\n",
            " [ 74 164]]\n",
            "              precision    recall  f1-score   support\n",
            "\n",
            "           0       0.74      0.89      0.81       238\n",
            "           1       0.87      0.69      0.77       238\n",
            "\n",
            "    accuracy                           0.79       476\n",
            "   macro avg       0.80      0.79      0.79       476\n",
            "weighted avg       0.80      0.79      0.79       476\n",
            "\n",
            "No. of Decision Trees:  97\n",
            "[[213  25]\n",
            " [ 74 164]]\n",
            "              precision    recall  f1-score   support\n",
            "\n",
            "           0       0.74      0.89      0.81       238\n",
            "           1       0.87      0.69      0.77       238\n",
            "\n",
            "    accuracy                           0.79       476\n",
            "   macro avg       0.80      0.79      0.79       476\n",
            "weighted avg       0.80      0.79      0.79       476\n",
            "\n",
            "No. of Decision Trees:  98\n",
            "[[213  25]\n",
            " [ 74 164]]\n",
            "              precision    recall  f1-score   support\n",
            "\n",
            "           0       0.74      0.89      0.81       238\n",
            "           1       0.87      0.69      0.77       238\n",
            "\n",
            "    accuracy                           0.79       476\n",
            "   macro avg       0.80      0.79      0.79       476\n",
            "weighted avg       0.80      0.79      0.79       476\n",
            "\n",
            "No. of Decision Trees:  99\n",
            "[[213  25]\n",
            " [ 74 164]]\n",
            "              precision    recall  f1-score   support\n",
            "\n",
            "           0       0.74      0.89      0.81       238\n",
            "           1       0.87      0.69      0.77       238\n",
            "\n",
            "    accuracy                           0.79       476\n",
            "   macro avg       0.80      0.79      0.79       476\n",
            "weighted avg       0.80      0.79      0.79       476\n",
            "\n",
            "No. of Decision Trees:  100\n",
            "[[213  25]\n",
            " [ 74 164]]\n",
            "              precision    recall  f1-score   support\n",
            "\n",
            "           0       0.74      0.89      0.81       238\n",
            "           1       0.87      0.69      0.77       238\n",
            "\n",
            "    accuracy                           0.79       476\n",
            "   macro avg       0.80      0.79      0.79       476\n",
            "weighted avg       0.80      0.79      0.79       476\n",
            "\n"
          ]
        }
      ]
    },
    {
      "cell_type": "code",
      "source": [
        "#12:F1 score : 0.81 and accuracy = 0.82"
      ],
      "metadata": {
        "id": "1XgYigA9J-RR"
      },
      "id": "1XgYigA9J-RR",
      "execution_count": 76,
      "outputs": []
    },
    {
      "cell_type": "code",
      "source": [
        "#SVM\n",
        "from sklearn.svm import LinearSVC"
      ],
      "metadata": {
        "id": "zQtUj0FaKnfa"
      },
      "id": "zQtUj0FaKnfa",
      "execution_count": 77,
      "outputs": []
    },
    {
      "cell_type": "code",
      "source": [
        "#create object\n",
        "svc=LinearSVC(random_state=1)"
      ],
      "metadata": {
        "id": "ZNi6Plh3Kr32"
      },
      "id": "ZNi6Plh3Kr32",
      "execution_count": 78,
      "outputs": []
    },
    {
      "cell_type": "code",
      "source": [
        "#call function\n",
        "svc=create_model(svc)"
      ],
      "metadata": {
        "colab": {
          "base_uri": "https://localhost:8080/"
        },
        "id": "gxqSOVnwKt-R",
        "outputId": "0177135b-259d-4ce5-a7ec-7e005a4b4dd5"
      },
      "id": "gxqSOVnwKt-R",
      "execution_count": 79,
      "outputs": [
        {
          "output_type": "stream",
          "name": "stdout",
          "text": [
            "[[172  66]\n",
            " [ 83 155]]\n",
            "              precision    recall  f1-score   support\n",
            "\n",
            "           0       0.67      0.72      0.70       238\n",
            "           1       0.70      0.65      0.68       238\n",
            "\n",
            "    accuracy                           0.69       476\n",
            "   macro avg       0.69      0.69      0.69       476\n",
            "weighted avg       0.69      0.69      0.69       476\n",
            "\n"
          ]
        }
      ]
    },
    {
      "cell_type": "code",
      "source": [
        "#add error\n",
        "svc1=LinearSVC(random_state=1,C=0.01)"
      ],
      "metadata": {
        "id": "b5X0rprNKwme"
      },
      "id": "b5X0rprNKwme",
      "execution_count": 80,
      "outputs": []
    },
    {
      "cell_type": "code",
      "source": [
        "svc1=create_model(svc1)"
      ],
      "metadata": {
        "colab": {
          "base_uri": "https://localhost:8080/"
        },
        "id": "jXH9dnJrLFxl",
        "outputId": "dcb2d767-85bc-4d69-dbe4-e62489d770e1"
      },
      "id": "jXH9dnJrLFxl",
      "execution_count": 81,
      "outputs": [
        {
          "output_type": "stream",
          "name": "stdout",
          "text": [
            "[[174  64]\n",
            " [ 79 159]]\n",
            "              precision    recall  f1-score   support\n",
            "\n",
            "           0       0.69      0.73      0.71       238\n",
            "           1       0.71      0.67      0.69       238\n",
            "\n",
            "    accuracy                           0.70       476\n",
            "   macro avg       0.70      0.70      0.70       476\n",
            "weighted avg       0.70      0.70      0.70       476\n",
            "\n"
          ]
        }
      ]
    },
    {
      "cell_type": "code",
      "source": [
        "svc1=LinearSVC(random_state=1,C=0.08)\n",
        "svc1=create_model(svc1)"
      ],
      "metadata": {
        "colab": {
          "base_uri": "https://localhost:8080/"
        },
        "id": "rQmbKnXqLIj9",
        "outputId": "065a4623-8416-4574-f6ad-608fa00f8d7e"
      },
      "id": "rQmbKnXqLIj9",
      "execution_count": 83,
      "outputs": [
        {
          "output_type": "stream",
          "name": "stdout",
          "text": [
            "[[172  66]\n",
            " [ 79 159]]\n",
            "              precision    recall  f1-score   support\n",
            "\n",
            "           0       0.69      0.72      0.70       238\n",
            "           1       0.71      0.67      0.69       238\n",
            "\n",
            "    accuracy                           0.70       476\n",
            "   macro avg       0.70      0.70      0.70       476\n",
            "weighted avg       0.70      0.70      0.70       476\n",
            "\n"
          ]
        }
      ]
    },
    {
      "cell_type": "code",
      "source": [
        "svc1=LinearSVC(random_state=1,C=0.1)\n",
        "svc1=create_model(svc1)"
      ],
      "metadata": {
        "colab": {
          "base_uri": "https://localhost:8080/"
        },
        "id": "oyEhNUK5LPKj",
        "outputId": "7a617103-f15e-42eb-896e-4d35b0b94c90"
      },
      "id": "oyEhNUK5LPKj",
      "execution_count": 84,
      "outputs": [
        {
          "output_type": "stream",
          "name": "stdout",
          "text": [
            "[[172  66]\n",
            " [ 83 155]]\n",
            "              precision    recall  f1-score   support\n",
            "\n",
            "           0       0.67      0.72      0.70       238\n",
            "           1       0.70      0.65      0.68       238\n",
            "\n",
            "    accuracy                           0.69       476\n",
            "   macro avg       0.69      0.69      0.69       476\n",
            "weighted avg       0.69      0.69      0.69       476\n",
            "\n"
          ]
        }
      ]
    },
    {
      "cell_type": "code",
      "source": [
        "#non linear data\n",
        "from sklearn.svm import SVC"
      ],
      "metadata": {
        "id": "ViUeO7uzLXco"
      },
      "id": "ViUeO7uzLXco",
      "execution_count": 85,
      "outputs": []
    },
    {
      "cell_type": "code",
      "source": [
        "#create object\n",
        "p_svc=SVC(random_state=1,kernel='poly')"
      ],
      "metadata": {
        "id": "T3KXJmRDLiwY"
      },
      "id": "T3KXJmRDLiwY",
      "execution_count": 86,
      "outputs": []
    },
    {
      "cell_type": "code",
      "source": [
        "#call function\n",
        "p_svc=create_model(p_svc)"
      ],
      "metadata": {
        "colab": {
          "base_uri": "https://localhost:8080/"
        },
        "id": "73pYDdW2Llty",
        "outputId": "597802e6-d0ec-4854-dcf7-e6833a6e7ea6"
      },
      "id": "73pYDdW2Llty",
      "execution_count": 87,
      "outputs": [
        {
          "output_type": "stream",
          "name": "stdout",
          "text": [
            "[[193  45]\n",
            " [122 116]]\n",
            "              precision    recall  f1-score   support\n",
            "\n",
            "           0       0.61      0.81      0.70       238\n",
            "           1       0.72      0.49      0.58       238\n",
            "\n",
            "    accuracy                           0.65       476\n",
            "   macro avg       0.67      0.65      0.64       476\n",
            "weighted avg       0.67      0.65      0.64       476\n",
            "\n"
          ]
        }
      ]
    },
    {
      "cell_type": "code",
      "source": [
        "r_svc=SVC(random_state=1,kernel='rbf')"
      ],
      "metadata": {
        "id": "s21EJQwGLnt5"
      },
      "id": "s21EJQwGLnt5",
      "execution_count": 88,
      "outputs": []
    },
    {
      "cell_type": "code",
      "source": [
        "r_svc=create_model(r_svc)"
      ],
      "metadata": {
        "colab": {
          "base_uri": "https://localhost:8080/"
        },
        "id": "Aj5TN2EFLvAf",
        "outputId": "57b26ec9-853c-43b3-ee51-184f1bb0dbb4"
      },
      "id": "Aj5TN2EFLvAf",
      "execution_count": 89,
      "outputs": [
        {
          "output_type": "stream",
          "name": "stdout",
          "text": [
            "[[180  58]\n",
            " [ 69 169]]\n",
            "              precision    recall  f1-score   support\n",
            "\n",
            "           0       0.72      0.76      0.74       238\n",
            "           1       0.74      0.71      0.73       238\n",
            "\n",
            "    accuracy                           0.73       476\n",
            "   macro avg       0.73      0.73      0.73       476\n",
            "weighted avg       0.73      0.73      0.73       476\n",
            "\n"
          ]
        }
      ]
    },
    {
      "cell_type": "code",
      "source": [
        "#Logistic Regression\n",
        "#recall=65% which is not good amd f1 score is 68% which is not good\n",
        "#Decision tree classifier: recall score is 45% which is not good and difference is more than 20\n",
        "#Pruning technique(Gini index) at depth 6= f1 score = 81% and accuracy = 80%\n",
        "#Pruning technique(entropy) at depth 6= f1 score = 81% and accuracy = 80%\n",
        "#Min samples leaf = recall = 86%, f1= 79% and accuracy 77%\n",
        "#Random Forest #recall score=66%(0.66), f1 score= 75% accuracy=(0.85)\n",
        "#ada boost (f1 score= 78% and accuracy= 77%)\n",
        "#xgboost at 12:F1 score : 0.81 and accuracy = 0.82"
      ],
      "metadata": {
        "id": "0wRRzRGLLzNC"
      },
      "id": "0wRRzRGLLzNC",
      "execution_count": null,
      "outputs": []
    }
  ],
  "metadata": {
    "kernelspec": {
      "display_name": "Python 3 (ipykernel)",
      "language": "python",
      "name": "python3"
    },
    "language_info": {
      "codemirror_mode": {
        "name": "ipython",
        "version": 3
      },
      "file_extension": ".py",
      "mimetype": "text/x-python",
      "name": "python",
      "nbconvert_exporter": "python",
      "pygments_lexer": "ipython3",
      "version": "3.10.9"
    },
    "colab": {
      "provenance": []
    }
  },
  "nbformat": 4,
  "nbformat_minor": 5
}